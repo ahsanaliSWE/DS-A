{
  "nbformat": 4,
  "nbformat_minor": 0,
  "metadata": {
    "colab": {
      "provenance": []
    },
    "kernelspec": {
      "name": "python3",
      "display_name": "Python 3"
    },
    "language_info": {
      "name": "python"
    }
  },
  "cells": [
    {
      "cell_type": "markdown",
      "source": [
        "###Task 1\n",
        "###Base Types"
      ],
      "metadata": {
        "id": "WoKGwTrmodAZ"
      }
    },
    {
      "cell_type": "code",
      "execution_count": null,
      "metadata": {
        "colab": {
          "base_uri": "https://localhost:8080/"
        },
        "id": "S_uHTqJpbqQ4",
        "outputId": "8dd6a700-d885-4068-9e7c-61eb8e5b8cb8"
      },
      "outputs": [
        {
          "output_type": "stream",
          "name": "stdout",
          "text": [
            "Integer : 786 \n",
            "Float :  9.23 \n",
            "Bool :  True \n",
            "String :  One\n",
            "Two \n",
            "Bytes :  b'toto\\xfe\\xfd'\n"
          ]
        }
      ],
      "source": [
        "inte = 786       # Base Types\n",
        "deci = 9.23\n",
        "boolean_x = True\n",
        "stri = \"One\\nTwo\"\n",
        "byt = b\"toto\\xfe\\775\"\n",
        "print(\"Integer :\",inte,\"\\nFloat : \",deci,\"\\nBool : \",boolean_x,\"\\nString : \",stri,\"\\nBytes : \",byt)"
      ]
    },
    {
      "cell_type": "markdown",
      "source": [
        "###Task 2\n",
        "###Container Types"
      ],
      "metadata": {
        "id": "3OwDTPNlom8N"
      }
    },
    {
      "cell_type": "code",
      "source": [
        "mylist = [\"x\",11,8.9]    # Container Types\n",
        "mytuples = (1,5,9)\n",
        "mydict = {1:\"one\",2:\"two\",3.14:\"PI\"}\n",
        "myset = {1,9,3,0}\n",
        "print(\"List : \",mylist,\"\\nTuples : \",mytuples,\"\\nDictionaries : \",mydict,\"\\nSet : \",myset)\n"
      ],
      "metadata": {
        "colab": {
          "base_uri": "https://localhost:8080/"
        },
        "id": "g4tEsH3AfDlE",
        "outputId": "29a1135a-6b81-4826-afe7-866b2162c7b7"
      },
      "execution_count": null,
      "outputs": [
        {
          "output_type": "stream",
          "name": "stdout",
          "text": [
            "List :  ['x', 11, 8.9] \n",
            "Tuples :  (1, 5, 9) \n",
            "Dictionaries :  {1: 'one', 2: 'two', 3.14: 'PI'} \n",
            "Set :  {0, 1, 3, 9}\n"
          ]
        }
      ]
    },
    {
      "cell_type": "markdown",
      "source": [
        "###Task 3\n",
        "###Variables Assignment"
      ],
      "metadata": {
        "id": "REIke7S8ot9z"
      }
    },
    {
      "cell_type": "code",
      "source": [
        "a=b=c=0          # Variables Assignment\n",
        "print(a,b,c)\n",
        "y,z,r = 9.2,-7.6,0\n",
        "print(y,z,r)\n",
        "a,b = b,a\n",
        "print(a,b)\n",
        "x = 0\n",
        "x+=3\n",
        "print(x)\n",
        "x-=2\n",
        "print(x)\n",
        "x=None\n",
        "print(x)\n",
        "del x"
      ],
      "metadata": {
        "colab": {
          "base_uri": "https://localhost:8080/"
        },
        "id": "FlJW_frrg0lQ",
        "outputId": "65daae1d-f50b-4625-9432-d1599ac96010"
      },
      "execution_count": null,
      "outputs": [
        {
          "output_type": "stream",
          "name": "stdout",
          "text": [
            "0 0 0\n",
            "9.2 -7.6 0\n",
            "0 0\n",
            "3\n",
            "1\n",
            "None\n"
          ]
        }
      ]
    },
    {
      "cell_type": "markdown",
      "source": [
        "###Task 4\n",
        "###Conversions"
      ],
      "metadata": {
        "id": "Pp8YEx-oo4PF"
      }
    },
    {
      "cell_type": "code",
      "source": [
        "x = int(\"15\")          # Conversions\n",
        "print(x)\n",
        "x = int(\"3f\",16)\n",
        "print(x)\n",
        "x = int(15.56)\n",
        "print(x)\n",
        "x = float(\"-11.24e8\")\n",
        "print(x)\n",
        "x = round(15.56,1)\n",
        "print(x)\n",
        "x = bool(x)\n",
        "print(x)\n",
        "x = str(\"...\")\n",
        "print(x)\n",
        "x = chr(64)\n",
        "print(x)\n",
        "x = repr(x)\n",
        "print(x)\n",
        "x = bytes([72,9,64])\n",
        "print(x)\n",
        "x = list(\"abc\")\n",
        "print(x)\n",
        "x = dict([(3,\"three\"),(1,\"one\")])\n",
        "print(x)\n",
        "x = set([\"one\",\"two\"])\n",
        "print(x)\n",
        "x = \":\".join(['toto','12','pwd'])\n",
        "print(x)\n",
        "x = \"words with spaces\".split()\n",
        "print(x)\n",
        "x = \"1,4,8,2\".split(\",\")\n",
        "print(x)"
      ],
      "metadata": {
        "colab": {
          "base_uri": "https://localhost:8080/"
        },
        "id": "M7ttuZbmmk7N",
        "outputId": "fc3678dc-d2b0-4693-db34-ef73a98e8a75"
      },
      "execution_count": null,
      "outputs": [
        {
          "output_type": "stream",
          "name": "stdout",
          "text": [
            "15\n",
            "63\n",
            "15\n",
            "-1124000000.0\n",
            "15.6\n",
            "True\n",
            "...\n",
            "@\n",
            "'@'\n",
            "b'H\\t@'\n",
            "['a', 'b', 'c']\n",
            "{3: 'three', 1: 'one'}\n",
            "{'one', 'two'}\n",
            "toto:12:pwd\n",
            "['words', 'with', 'spaces']\n",
            "['1', '4', '8', '2']\n"
          ]
        }
      ]
    },
    {
      "cell_type": "markdown",
      "source": [
        "###Task 5\n",
        "###conditional statement"
      ],
      "metadata": {
        "id": "q5bdh23po99j"
      }
    },
    {
      "cell_type": "code",
      "source": [
        "age = 20        # conditional statement\n",
        "if age <= 18:\n",
        "  state = \"kid\"\n",
        "  print(state)\n",
        "elif age > 65:\n",
        "  state = \"Retired\"\n",
        "  print(state)\n",
        "else:\n",
        "  state=\"Active\"\n",
        "  print(state)"
      ],
      "metadata": {
        "colab": {
          "base_uri": "https://localhost:8080/"
        },
        "id": "phZXH-jErPBA",
        "outputId": "bb16419e-a67d-4ff4-e11c-e67cfe275708"
      },
      "execution_count": null,
      "outputs": [
        {
          "output_type": "stream",
          "name": "stdout",
          "text": [
            "Active\n"
          ]
        }
      ]
    },
    {
      "cell_type": "markdown",
      "source": [
        "###Task 6\n",
        "###Boolean Logic"
      ],
      "metadata": {
        "id": "VZhLfGtWpHSl"
      }
    },
    {
      "cell_type": "code",
      "source": [
        "print(\"2 < 3 : \", 2 < 3)                 # Boolean Logic\n",
        "print(\"2 <= 3 :\", 2 <= 3)\n",
        "print(\"2 > 3 :\", 2 > 3)\n",
        "print(\"2 >= 3 :\", 2 >= 3)\n",
        "print(\"2 == 3 :\", 2 == 3)\n",
        "print(\"2 != 3 :\", 2 != 3)\n"
      ],
      "metadata": {
        "colab": {
          "base_uri": "https://localhost:8080/"
        },
        "id": "ipTH3xLJFKTP",
        "outputId": "6e740883-e133-43ff-c275-4ea221f7e652"
      },
      "execution_count": null,
      "outputs": [
        {
          "output_type": "stream",
          "name": "stdout",
          "text": [
            "2 < 3 :  True\n",
            "2 <= 3 : True\n",
            "2 > 3 : False\n",
            "2 >= 3 : False\n",
            "2 == 3 : False\n",
            "2 != 3 : True\n"
          ]
        }
      ]
    },
    {
      "cell_type": "markdown",
      "source": [
        "###Task 7\n",
        "###Maths"
      ],
      "metadata": {
        "id": "Fz_G2qAipLgY"
      }
    },
    {
      "cell_type": "code",
      "source": [
        "from math import sin,cos,pi,sqrt,log,e,ceil,floor\n",
        "                                   # Maths\n",
        "print((1+5.3)*2)\n",
        "print(abs(-3.2))\n",
        "print(round(3.57,1))\n",
        "print(pow(4,3))\n",
        "\n",
        "print(sin(pi/4))\n",
        "print(cos(2*pi/3))\n",
        "print(sqrt(81))\n",
        "print(log(e**2))\n",
        "print(ceil(12.5))\n",
        "print(floor(12.5))\n"
      ],
      "metadata": {
        "colab": {
          "base_uri": "https://localhost:8080/"
        },
        "id": "yy0fGQaIvfve",
        "outputId": "382ead5f-ba5a-43e0-a594-7622803632b9"
      },
      "execution_count": null,
      "outputs": [
        {
          "output_type": "stream",
          "name": "stdout",
          "text": [
            "12.6\n",
            "3.2\n",
            "3.6\n",
            "64\n",
            "0.7071067811865475\n",
            "-0.4999999999999998\n",
            "9.0\n",
            "2.0\n",
            "13\n",
            "12\n"
          ]
        }
      ]
    },
    {
      "cell_type": "markdown",
      "source": [
        "###Task 8\n",
        "###Exception on Errors"
      ],
      "metadata": {
        "id": "ZL-JKWudpTOo"
      }
    },
    {
      "cell_type": "code",
      "source": [
        "try:                    # Exception on Errors\n",
        "  print(w)\n",
        "except NameError:\n",
        "  print(\"Variable w is not defined\")\n",
        "except:\n",
        "  print(\"Something else went wrong\")"
      ],
      "metadata": {
        "colab": {
          "base_uri": "https://localhost:8080/"
        },
        "id": "IKlAb6Ng30TZ",
        "outputId": "104d4f20-0b49-4ef0-fbb2-a9b490620743"
      },
      "execution_count": null,
      "outputs": [
        {
          "output_type": "stream",
          "name": "stdout",
          "text": [
            "Variable w is not defined\n"
          ]
        }
      ]
    },
    {
      "cell_type": "markdown",
      "source": [
        "###Task 9\n",
        "### Conditional Loop Statement"
      ],
      "metadata": {
        "id": "FJzYkku9pZt0"
      }
    },
    {
      "cell_type": "code",
      "source": [
        "s = 0         # Conditional Loop Statement\n",
        "i = 1\n",
        "while i < 100:\n",
        "  s = s + i**2\n",
        "  i = i + 1\n",
        "  print(\"sum: \",s)"
      ],
      "metadata": {
        "colab": {
          "base_uri": "https://localhost:8080/"
        },
        "id": "gowRchFa4lGt",
        "outputId": "a39d4ba2-1cb9-4704-a4f9-9b14780da19c"
      },
      "execution_count": null,
      "outputs": [
        {
          "output_type": "stream",
          "name": "stdout",
          "text": [
            "sum:  1\n",
            "sum:  5\n",
            "sum:  14\n",
            "sum:  30\n",
            "sum:  55\n",
            "sum:  91\n",
            "sum:  140\n",
            "sum:  204\n",
            "sum:  285\n",
            "sum:  385\n",
            "sum:  506\n",
            "sum:  650\n",
            "sum:  819\n",
            "sum:  1015\n",
            "sum:  1240\n",
            "sum:  1496\n",
            "sum:  1785\n",
            "sum:  2109\n",
            "sum:  2470\n",
            "sum:  2870\n",
            "sum:  3311\n",
            "sum:  3795\n",
            "sum:  4324\n",
            "sum:  4900\n",
            "sum:  5525\n",
            "sum:  6201\n",
            "sum:  6930\n",
            "sum:  7714\n",
            "sum:  8555\n",
            "sum:  9455\n",
            "sum:  10416\n",
            "sum:  11440\n",
            "sum:  12529\n",
            "sum:  13685\n",
            "sum:  14910\n",
            "sum:  16206\n",
            "sum:  17575\n",
            "sum:  19019\n",
            "sum:  20540\n",
            "sum:  22140\n",
            "sum:  23821\n",
            "sum:  25585\n",
            "sum:  27434\n",
            "sum:  29370\n",
            "sum:  31395\n",
            "sum:  33511\n",
            "sum:  35720\n",
            "sum:  38024\n",
            "sum:  40425\n",
            "sum:  42925\n",
            "sum:  45526\n",
            "sum:  48230\n",
            "sum:  51039\n",
            "sum:  53955\n",
            "sum:  56980\n",
            "sum:  60116\n",
            "sum:  63365\n",
            "sum:  66729\n",
            "sum:  70210\n",
            "sum:  73810\n",
            "sum:  77531\n",
            "sum:  81375\n",
            "sum:  85344\n",
            "sum:  89440\n",
            "sum:  93665\n",
            "sum:  98021\n",
            "sum:  102510\n",
            "sum:  107134\n",
            "sum:  111895\n",
            "sum:  116795\n",
            "sum:  121836\n",
            "sum:  127020\n",
            "sum:  132349\n",
            "sum:  137825\n",
            "sum:  143450\n",
            "sum:  149226\n",
            "sum:  155155\n",
            "sum:  161239\n",
            "sum:  167480\n",
            "sum:  173880\n",
            "sum:  180441\n",
            "sum:  187165\n",
            "sum:  194054\n",
            "sum:  201110\n",
            "sum:  208335\n",
            "sum:  215731\n",
            "sum:  223300\n",
            "sum:  231044\n",
            "sum:  238965\n",
            "sum:  247065\n",
            "sum:  255346\n",
            "sum:  263810\n",
            "sum:  272459\n",
            "sum:  281295\n",
            "sum:  290320\n",
            "sum:  299536\n",
            "sum:  308945\n",
            "sum:  318549\n",
            "sum:  328350\n"
          ]
        }
      ]
    },
    {
      "cell_type": "markdown",
      "source": [
        "###Task 10\n",
        "###Iterative Loop Statement"
      ],
      "metadata": {
        "id": "wKIQN5gfphCi"
      }
    },
    {
      "cell_type": "code",
      "source": [
        "s = \"Some Text\"     # Iterative Loop Statement\n",
        "cnt = 0\n",
        "\n",
        "for c in s:\n",
        "  if c == \"e\":\n",
        "      cnt = cnt + 1\n",
        "  print(\"found\",cnt,\"'e'\")"
      ],
      "metadata": {
        "colab": {
          "base_uri": "https://localhost:8080/"
        },
        "id": "F-i_HN185zRM",
        "outputId": "bcd8055c-3c4e-4c61-a210-bf464bf0b559"
      },
      "execution_count": null,
      "outputs": [
        {
          "output_type": "stream",
          "name": "stdout",
          "text": [
            "found 0 'e'\n",
            "found 0 'e'\n",
            "found 0 'e'\n",
            "found 1 'e'\n",
            "found 1 'e'\n",
            "found 1 'e'\n",
            "found 2 'e'\n",
            "found 2 'e'\n",
            "found 2 'e'\n"
          ]
        }
      ]
    },
    {
      "cell_type": "markdown",
      "source": [
        "### Task 11\n",
        "###Input and Display"
      ],
      "metadata": {
        "id": "NmySmVptpmnw"
      }
    },
    {
      "cell_type": "code",
      "source": [
        "s = input(\"Instructions: \")       # Input and Display\n",
        "print(s)"
      ],
      "metadata": {
        "colab": {
          "base_uri": "https://localhost:8080/"
        },
        "id": "81EGdOzi7CrM",
        "outputId": "6a7a3bd4-6e86-4ebf-ef4f-502436f89a9b"
      },
      "execution_count": null,
      "outputs": [
        {
          "output_type": "stream",
          "name": "stdout",
          "text": [
            "Instructions: 5\n",
            "5\n"
          ]
        }
      ]
    },
    {
      "cell_type": "markdown",
      "source": [
        "###Task 12\n",
        "###Integer Sequences"
      ],
      "metadata": {
        "id": "ArDjcakLpsCH"
      }
    },
    {
      "cell_type": "code",
      "source": [
        "print(range(5))        # Integer Sequences\n",
        "print(range(2,12,3))\n",
        "print(range(20,5,-5))\n"
      ],
      "metadata": {
        "colab": {
          "base_uri": "https://localhost:8080/"
        },
        "id": "6pRbtZha7Ycc",
        "outputId": "b2820cd8-5fc5-4f12-937a-dd00ff1562bd"
      },
      "execution_count": null,
      "outputs": [
        {
          "output_type": "stream",
          "name": "stdout",
          "text": [
            "range(0, 5)\n",
            "range(2, 12, 3)\n",
            "range(20, 5, -5)\n"
          ]
        }
      ]
    }
  ]
}