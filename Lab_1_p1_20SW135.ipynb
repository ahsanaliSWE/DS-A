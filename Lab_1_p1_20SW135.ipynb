{
  "nbformat": 4,
  "nbformat_minor": 0,
  "metadata": {
    "colab": {
      "provenance": []
    },
    "kernelspec": {
      "name": "python3",
      "display_name": "Python 3"
    },
    "language_info": {
      "name": "python"
    }
  },
  "cells": [
    {
      "cell_type": "markdown",
      "source": [
        "##Task 1\n",
        "\n",
        "###Write two lines of code below, each assigning a value to a variable\n",
        "\n",
        "###Now write a print statement using .format() to print out a sentence\n",
        "###and the values of both of the variables"
      ],
      "metadata": {
        "id": "QomiXJi8mjoF"
      }
    },
    {
      "cell_type": "code",
      "execution_count": null,
      "metadata": {
        "id": "BcKt4g9ps-jG"
      },
      "outputs": [],
      "source": [
        "txt = \"For only {price:.2f} dollars!\"    # Task 1\n",
        "print(txt.format(price = 49))"
      ]
    },
    {
      "cell_type": "markdown",
      "source": [
        "##Task 2\n",
        "\n",
        "###Write two lines of code below, each assigning a value to a variable\n",
        "###Now write a print statement using .format() to print out a sentence\n",
        "###and the values of both of the variable"
      ],
      "metadata": {
        "id": "U3HoJ40hm-g1"
      }
    },
    {
      "cell_type": "code",
      "source": [
        "name = \"ahsan ali\"     # Task 2\n",
        "\n",
        "print(name.capitalize())\n",
        "print(name.casefold())\n",
        "x = name.center(40, '.')\n",
        "print(\"The string after applying the center() function is:\", x)\n",
        "print('Number of occurrence of a:', name.count('a'))\n",
        "str=\"Hello! Welcome Ahsan.\"\n",
        "str_encoded= str.encode('utf_16','strict')\n",
        "print(\"The encoded string is: \", str_encoded)\n",
        "suffix = \"an.\";\n",
        "result=str.endswith(suffix)\n",
        "print(\"The input string ends with the given suffix:\", result)\n",
        "result = str.expandtabs()\n",
        "print(result)\n",
        "print(name.find('ali'))\n",
        "result = name.format('XYZ', 'New World')\n",
        "print(result)\n",
        "point = {'x':4,'y':-5}\n",
        "print('{x} {y}'.format(**point))\n",
        "str = \"tutorial\"\n",
        "result=str.isalnum()\n",
        "print(\"Are all the characters of the string alphanumeric?\", result)\n",
        "print(name.isalpha())\n",
        "x = name.isascii()\n",
        "print(x)\n",
        "print(name.isdecimal())\n",
        "txt = \"50800\"\n",
        "x = txt.isdigit()\n",
        "print(x)\n",
        "x = name.isidentifier()\n",
        "print(x)\n",
        "x = name.islower()\n",
        "print(x)\n",
        "pin = \"523\"\n",
        "print(pin.isnumeric())\n",
        "x = name.isprintable()\n",
        "print(x)\n",
        "txt = \"   \"\n",
        "x = txt.isspace()\n",
        "print(x)"
      ],
      "metadata": {
        "colab": {
          "base_uri": "https://localhost:8080/"
        },
        "id": "owczkoIuuFFB",
        "outputId": "02119fc7-977c-4979-e258-7474e0ee3cd3"
      },
      "execution_count": null,
      "outputs": [
        {
          "output_type": "stream",
          "name": "stdout",
          "text": [
            "Ahsan ali\n",
            "ahsan ali\n",
            "The string after applying the center() function is: ...............ahsan ali................\n",
            "Number of occurrence of a: 3\n",
            "The encoded string is:  b'\\xff\\xfeH\\x00e\\x00l\\x00l\\x00o\\x00!\\x00 \\x00W\\x00e\\x00l\\x00c\\x00o\\x00m\\x00e\\x00 \\x00A\\x00h\\x00s\\x00a\\x00n\\x00.\\x00'\n",
            "The input string ends with the given suffix: True\n",
            "Hello! Welcome Ahsan.\n",
            "6\n",
            "ahsan ali\n",
            "4 -5\n",
            "Are all the characters of the string alphanumeric? True\n",
            "False\n",
            "True\n",
            "False\n",
            "True\n",
            "False\n",
            "True\n",
            "True\n",
            "True\n",
            "True\n"
          ]
        }
      ]
    },
    {
      "cell_type": "markdown",
      "source": [
        "##Task 3\n",
        "##List Indexing\n",
        "###Use list indexing to determine how many days are in a particular month based on the integer variable month , and store that value in the integer variable num_days . For example, if month is 8, num_days should be set to 31, since the eighth month, August,has 31 days.\n",
        "###Remember to account for zero-based indexing!\n"
      ],
      "metadata": {
        "id": "wQur7OoHnbts"
      }
    },
    {
      "cell_type": "code",
      "source": [
        " # Task 3 List Indexing\n",
        "month = 8\n",
        "days_in_month = [31, 28, 31, 30, 31, 30, 31, 31, 30, 31, 30, 31]\n",
        "\n",
        "# Use list indexing to determine the number of days in month\n",
        "num_days = days_in_month[month - 1]\n",
        "\n",
        "print(num_days)"
      ],
      "metadata": {
        "colab": {
          "base_uri": "https://localhost:8080/"
        },
        "id": "gUvtQ8UQ2M2M",
        "outputId": "7902c2a3-deba-4a65-927f-bdac7b4dbb3e"
      },
      "execution_count": null,
      "outputs": [
        {
          "output_type": "stream",
          "name": "stdout",
          "text": [
            "31\n"
          ]
        }
      ]
    },
    {
      "cell_type": "markdown",
      "source": [
        "##Task 4\n",
        "###Select the three most recent dates from this list using list slicing notation. Hint: negative indexes\n",
        "###work in slices!"
      ],
      "metadata": {
        "id": "iyLtNk80n9tO"
      }
    },
    {
      "cell_type": "code",
      "source": [
        "# TASK # 4\n",
        "eclipse_dates = ['June 21, 2001', 'December 4, 2002', 'November 23, 2003',\n",
        "                 'March 29, 2006', 'August 1, 2008', 'July 22, 2009',\n",
        "                 'July 11, 2010', 'November 13, 2012', 'March 20, 2015',\n",
        "                 'March 9, 2016']\n",
        "\n",
        "# Use list slicing to select the last three elements\n",
        "recent_dates = eclipse_dates[-3:]\n",
        "\n",
        "print(recent_dates)"
      ],
      "metadata": {
        "colab": {
          "base_uri": "https://localhost:8080/"
        },
        "id": "2q0Madhw2jcz",
        "outputId": "58541a12-db60-4cae-b42e-88b465e795df"
      },
      "execution_count": null,
      "outputs": [
        {
          "output_type": "stream",
          "name": "stdout",
          "text": [
            "['November 13, 2012', 'March 20, 2015', 'March 9, 2016']\n"
          ]
        }
      ]
    },
    {
      "cell_type": "markdown",
      "source": [
        "##Task 5\n",
        "###Store student’s data using nested dictionary"
      ],
      "metadata": {
        "id": "sHnXR8VloGLO"
      }
    },
    {
      "cell_type": "code",
      "source": [
        " # Task 5 Store student’s data using nested dictionary.\n",
        "student_data = {\n",
        "    \"1\": {\n",
        "        \"name\": \"John Doe\",\n",
        "        \"age\": 20,\n",
        "        \"grades\": [90, 80, 70],\n",
        "    },\n",
        "    \"2\": {\n",
        "        \"name\": \"Jane Doe\",\n",
        "        \"age\": 19,\n",
        "        \"grades\": [85, 75, 65],\n",
        "    },\n",
        "}\n",
        "for student_id, student_info in student_data.items():\n",
        "    print(f\"Student ID: {student_id}\")\n",
        "    print(f\"Name: {student_info['name']}\")\n",
        "    print(f\"Age: {student_info['age']}\")\n",
        "    print(f\"Grades: {student_info['grades']}\")"
      ],
      "metadata": {
        "colab": {
          "base_uri": "https://localhost:8080/"
        },
        "id": "pT8ehZ8I1Slc",
        "outputId": "b5c8f430-dcd1-45c5-fa55-c88e8834279b"
      },
      "execution_count": null,
      "outputs": [
        {
          "output_type": "stream",
          "name": "stdout",
          "text": [
            "Student ID: 1\n",
            "Name: John Doe\n",
            "Age: 20\n",
            "Grades: [90, 80, 70]\n",
            "Student ID: 2\n",
            "Name: Jane Doe\n",
            "Age: 19\n",
            "Grades: [85, 75, 65]\n"
          ]
        }
      ]
    }
  ]
}