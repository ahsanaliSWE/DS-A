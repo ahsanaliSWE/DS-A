{
  "cells": [
    {
      "cell_type": "markdown",
      "metadata": {
        "id": "JXg_OPP7G59B"
      },
      "source": [
        "# Text Processing\n",
        "\n",
        "## Capturing Text Data\n",
        "\n",
        "### Plain Text"
      ]
    },
    {
      "cell_type": "code",
      "execution_count": 4,
      "metadata": {
        "id": "06Gy7zDRG59K",
        "colab": {
          "base_uri": "https://localhost:8080/"
        },
        "outputId": "8fa9e7ac-3b50-4c2c-b446-b6e628538c6e"
      },
      "outputs": [
        {
          "output_type": "stream",
          "name": "stdout",
          "text": [
            "Hieroglyphic writing dates from c. 3000 BC, and is composed of hundreds of symbols. A hieroglyph can represent a word, a sound, or a silent determinative; and the same symbol can serve different purposes in different contexts. Hieroglyphs were a formal script, used on stone monuments and in tombs, that could be as detailed as individual works of art.\n",
            "\n"
          ]
        }
      ],
      "source": [
        "import os\n",
        "\n",
        "# Read in a plain text file\n",
        "with open(os.path.join(\"data\", \"hieroglyph.txt\"), \"r\") as f:\n",
        "    text = f.read()\n",
        "    print(text)"
      ]
    },
    {
      "cell_type": "markdown",
      "metadata": {
        "id": "e-o9Wc25G59O"
      },
      "source": [
        "### Tabular Data"
      ]
    },
    {
      "cell_type": "code",
      "execution_count": 6,
      "metadata": {
        "scrolled": true,
        "id": "YHqSRCEPG59Q",
        "colab": {
          "base_uri": "https://localhost:8080/",
          "height": 206
        },
        "outputId": "dc419ea0-099b-40eb-d500-ee352424f728"
      },
      "outputs": [
        {
          "output_type": "execute_result",
          "data": {
            "text/plain": [
              "      publisher                                              title\n",
              "0      Livemint  fed's charles plosser sees high bar for change...\n",
              "1  IFA Magazine  us open: stocks fall after fed official hints ...\n",
              "2  IFA Magazine  fed risks falling 'behind the curve', charles ...\n",
              "3     Moneynews  fed's plosser: nasty weather has curbed job gr...\n",
              "4        NASDAQ  plosser: fed may have to accelerate tapering pace"
            ],
            "text/html": [
              "\n",
              "  <div id=\"df-1fc12747-7793-407b-9da9-1b9086a77d53\" class=\"colab-df-container\">\n",
              "    <div>\n",
              "<style scoped>\n",
              "    .dataframe tbody tr th:only-of-type {\n",
              "        vertical-align: middle;\n",
              "    }\n",
              "\n",
              "    .dataframe tbody tr th {\n",
              "        vertical-align: top;\n",
              "    }\n",
              "\n",
              "    .dataframe thead th {\n",
              "        text-align: right;\n",
              "    }\n",
              "</style>\n",
              "<table border=\"1\" class=\"dataframe\">\n",
              "  <thead>\n",
              "    <tr style=\"text-align: right;\">\n",
              "      <th></th>\n",
              "      <th>publisher</th>\n",
              "      <th>title</th>\n",
              "    </tr>\n",
              "  </thead>\n",
              "  <tbody>\n",
              "    <tr>\n",
              "      <th>0</th>\n",
              "      <td>Livemint</td>\n",
              "      <td>fed's charles plosser sees high bar for change...</td>\n",
              "    </tr>\n",
              "    <tr>\n",
              "      <th>1</th>\n",
              "      <td>IFA Magazine</td>\n",
              "      <td>us open: stocks fall after fed official hints ...</td>\n",
              "    </tr>\n",
              "    <tr>\n",
              "      <th>2</th>\n",
              "      <td>IFA Magazine</td>\n",
              "      <td>fed risks falling 'behind the curve', charles ...</td>\n",
              "    </tr>\n",
              "    <tr>\n",
              "      <th>3</th>\n",
              "      <td>Moneynews</td>\n",
              "      <td>fed's plosser: nasty weather has curbed job gr...</td>\n",
              "    </tr>\n",
              "    <tr>\n",
              "      <th>4</th>\n",
              "      <td>NASDAQ</td>\n",
              "      <td>plosser: fed may have to accelerate tapering pace</td>\n",
              "    </tr>\n",
              "  </tbody>\n",
              "</table>\n",
              "</div>\n",
              "    <div class=\"colab-df-buttons\">\n",
              "\n",
              "  <div class=\"colab-df-container\">\n",
              "    <button class=\"colab-df-convert\" onclick=\"convertToInteractive('df-1fc12747-7793-407b-9da9-1b9086a77d53')\"\n",
              "            title=\"Convert this dataframe to an interactive table.\"\n",
              "            style=\"display:none;\">\n",
              "\n",
              "  <svg xmlns=\"http://www.w3.org/2000/svg\" height=\"24px\" viewBox=\"0 -960 960 960\">\n",
              "    <path d=\"M120-120v-720h720v720H120Zm60-500h600v-160H180v160Zm220 220h160v-160H400v160Zm0 220h160v-160H400v160ZM180-400h160v-160H180v160Zm440 0h160v-160H620v160ZM180-180h160v-160H180v160Zm440 0h160v-160H620v160Z\"/>\n",
              "  </svg>\n",
              "    </button>\n",
              "\n",
              "  <style>\n",
              "    .colab-df-container {\n",
              "      display:flex;\n",
              "      gap: 12px;\n",
              "    }\n",
              "\n",
              "    .colab-df-convert {\n",
              "      background-color: #E8F0FE;\n",
              "      border: none;\n",
              "      border-radius: 50%;\n",
              "      cursor: pointer;\n",
              "      display: none;\n",
              "      fill: #1967D2;\n",
              "      height: 32px;\n",
              "      padding: 0 0 0 0;\n",
              "      width: 32px;\n",
              "    }\n",
              "\n",
              "    .colab-df-convert:hover {\n",
              "      background-color: #E2EBFA;\n",
              "      box-shadow: 0px 1px 2px rgba(60, 64, 67, 0.3), 0px 1px 3px 1px rgba(60, 64, 67, 0.15);\n",
              "      fill: #174EA6;\n",
              "    }\n",
              "\n",
              "    .colab-df-buttons div {\n",
              "      margin-bottom: 4px;\n",
              "    }\n",
              "\n",
              "    [theme=dark] .colab-df-convert {\n",
              "      background-color: #3B4455;\n",
              "      fill: #D2E3FC;\n",
              "    }\n",
              "\n",
              "    [theme=dark] .colab-df-convert:hover {\n",
              "      background-color: #434B5C;\n",
              "      box-shadow: 0px 1px 3px 1px rgba(0, 0, 0, 0.15);\n",
              "      filter: drop-shadow(0px 1px 2px rgba(0, 0, 0, 0.3));\n",
              "      fill: #FFFFFF;\n",
              "    }\n",
              "  </style>\n",
              "\n",
              "    <script>\n",
              "      const buttonEl =\n",
              "        document.querySelector('#df-1fc12747-7793-407b-9da9-1b9086a77d53 button.colab-df-convert');\n",
              "      buttonEl.style.display =\n",
              "        google.colab.kernel.accessAllowed ? 'block' : 'none';\n",
              "\n",
              "      async function convertToInteractive(key) {\n",
              "        const element = document.querySelector('#df-1fc12747-7793-407b-9da9-1b9086a77d53');\n",
              "        const dataTable =\n",
              "          await google.colab.kernel.invokeFunction('convertToInteractive',\n",
              "                                                    [key], {});\n",
              "        if (!dataTable) return;\n",
              "\n",
              "        const docLinkHtml = 'Like what you see? Visit the ' +\n",
              "          '<a target=\"_blank\" href=https://colab.research.google.com/notebooks/data_table.ipynb>data table notebook</a>'\n",
              "          + ' to learn more about interactive tables.';\n",
              "        element.innerHTML = '';\n",
              "        dataTable['output_type'] = 'display_data';\n",
              "        await google.colab.output.renderOutput(dataTable, element);\n",
              "        const docLink = document.createElement('div');\n",
              "        docLink.innerHTML = docLinkHtml;\n",
              "        element.appendChild(docLink);\n",
              "      }\n",
              "    </script>\n",
              "  </div>\n",
              "\n",
              "\n",
              "<div id=\"df-672d530f-2884-456a-b43b-de2b1aca4ca7\">\n",
              "  <button class=\"colab-df-quickchart\" onclick=\"quickchart('df-672d530f-2884-456a-b43b-de2b1aca4ca7')\"\n",
              "            title=\"Suggest charts.\"\n",
              "            style=\"display:none;\">\n",
              "\n",
              "<svg xmlns=\"http://www.w3.org/2000/svg\" height=\"24px\"viewBox=\"0 0 24 24\"\n",
              "     width=\"24px\">\n",
              "    <g>\n",
              "        <path d=\"M19 3H5c-1.1 0-2 .9-2 2v14c0 1.1.9 2 2 2h14c1.1 0 2-.9 2-2V5c0-1.1-.9-2-2-2zM9 17H7v-7h2v7zm4 0h-2V7h2v10zm4 0h-2v-4h2v4z\"/>\n",
              "    </g>\n",
              "</svg>\n",
              "  </button>\n",
              "\n",
              "<style>\n",
              "  .colab-df-quickchart {\n",
              "      --bg-color: #E8F0FE;\n",
              "      --fill-color: #1967D2;\n",
              "      --hover-bg-color: #E2EBFA;\n",
              "      --hover-fill-color: #174EA6;\n",
              "      --disabled-fill-color: #AAA;\n",
              "      --disabled-bg-color: #DDD;\n",
              "  }\n",
              "\n",
              "  [theme=dark] .colab-df-quickchart {\n",
              "      --bg-color: #3B4455;\n",
              "      --fill-color: #D2E3FC;\n",
              "      --hover-bg-color: #434B5C;\n",
              "      --hover-fill-color: #FFFFFF;\n",
              "      --disabled-bg-color: #3B4455;\n",
              "      --disabled-fill-color: #666;\n",
              "  }\n",
              "\n",
              "  .colab-df-quickchart {\n",
              "    background-color: var(--bg-color);\n",
              "    border: none;\n",
              "    border-radius: 50%;\n",
              "    cursor: pointer;\n",
              "    display: none;\n",
              "    fill: var(--fill-color);\n",
              "    height: 32px;\n",
              "    padding: 0;\n",
              "    width: 32px;\n",
              "  }\n",
              "\n",
              "  .colab-df-quickchart:hover {\n",
              "    background-color: var(--hover-bg-color);\n",
              "    box-shadow: 0 1px 2px rgba(60, 64, 67, 0.3), 0 1px 3px 1px rgba(60, 64, 67, 0.15);\n",
              "    fill: var(--button-hover-fill-color);\n",
              "  }\n",
              "\n",
              "  .colab-df-quickchart-complete:disabled,\n",
              "  .colab-df-quickchart-complete:disabled:hover {\n",
              "    background-color: var(--disabled-bg-color);\n",
              "    fill: var(--disabled-fill-color);\n",
              "    box-shadow: none;\n",
              "  }\n",
              "\n",
              "  .colab-df-spinner {\n",
              "    border: 2px solid var(--fill-color);\n",
              "    border-color: transparent;\n",
              "    border-bottom-color: var(--fill-color);\n",
              "    animation:\n",
              "      spin 1s steps(1) infinite;\n",
              "  }\n",
              "\n",
              "  @keyframes spin {\n",
              "    0% {\n",
              "      border-color: transparent;\n",
              "      border-bottom-color: var(--fill-color);\n",
              "      border-left-color: var(--fill-color);\n",
              "    }\n",
              "    20% {\n",
              "      border-color: transparent;\n",
              "      border-left-color: var(--fill-color);\n",
              "      border-top-color: var(--fill-color);\n",
              "    }\n",
              "    30% {\n",
              "      border-color: transparent;\n",
              "      border-left-color: var(--fill-color);\n",
              "      border-top-color: var(--fill-color);\n",
              "      border-right-color: var(--fill-color);\n",
              "    }\n",
              "    40% {\n",
              "      border-color: transparent;\n",
              "      border-right-color: var(--fill-color);\n",
              "      border-top-color: var(--fill-color);\n",
              "    }\n",
              "    60% {\n",
              "      border-color: transparent;\n",
              "      border-right-color: var(--fill-color);\n",
              "    }\n",
              "    80% {\n",
              "      border-color: transparent;\n",
              "      border-right-color: var(--fill-color);\n",
              "      border-bottom-color: var(--fill-color);\n",
              "    }\n",
              "    90% {\n",
              "      border-color: transparent;\n",
              "      border-bottom-color: var(--fill-color);\n",
              "    }\n",
              "  }\n",
              "</style>\n",
              "\n",
              "  <script>\n",
              "    async function quickchart(key) {\n",
              "      const quickchartButtonEl =\n",
              "        document.querySelector('#' + key + ' button');\n",
              "      quickchartButtonEl.disabled = true;  // To prevent multiple clicks.\n",
              "      quickchartButtonEl.classList.add('colab-df-spinner');\n",
              "      try {\n",
              "        const charts = await google.colab.kernel.invokeFunction(\n",
              "            'suggestCharts', [key], {});\n",
              "      } catch (error) {\n",
              "        console.error('Error during call to suggestCharts:', error);\n",
              "      }\n",
              "      quickchartButtonEl.classList.remove('colab-df-spinner');\n",
              "      quickchartButtonEl.classList.add('colab-df-quickchart-complete');\n",
              "    }\n",
              "    (() => {\n",
              "      let quickchartButtonEl =\n",
              "        document.querySelector('#df-672d530f-2884-456a-b43b-de2b1aca4ca7 button');\n",
              "      quickchartButtonEl.style.display =\n",
              "        google.colab.kernel.accessAllowed ? 'block' : 'none';\n",
              "    })();\n",
              "  </script>\n",
              "</div>\n",
              "    </div>\n",
              "  </div>\n"
            ]
          },
          "metadata": {},
          "execution_count": 6
        }
      ],
      "source": [
        "import pandas as pd\n",
        "\n",
        "# Extract text column from a dataframe\n",
        "df = pd.read_csv(os.path.join(\"data\", \"news.csv\"))\n",
        "df.head()[['publisher', 'title']]\n",
        "\n",
        "# Convert text column to lowercase\n",
        "df['title'] = df['title'].str.lower()\n",
        "df.head()[['publisher', 'title']]"
      ]
    },
    {
      "cell_type": "markdown",
      "metadata": {
        "id": "_qTkqnlFG59R"
      },
      "source": [
        "### Online Resource"
      ]
    },
    {
      "cell_type": "code",
      "execution_count": null,
      "metadata": {
        "scrolled": true,
        "id": "BAbiK2XZG59T"
      },
      "outputs": [],
      "source": [
        "import requests\n",
        "import json\n",
        "\n",
        "# Fetch data from a REST API\n",
        "r = requests.get(\n",
        "    \"https://quotes.rest/qod.json\")\n",
        "res = r.json()\n",
        "print(json.dumps(res, indent=4))\n",
        "\n",
        "# Extract relevant object and field\n",
        "q = res[\"contents\"][\"quotes\"][0]\n",
        "print(q[\"quote\"], \"\\n--\", q[\"author\"])"
      ]
    },
    {
      "cell_type": "markdown",
      "metadata": {
        "id": "gUuR9aR7G59U"
      },
      "source": [
        "## Cleaning"
      ]
    },
    {
      "cell_type": "code",
      "execution_count": 8,
      "metadata": {
        "scrolled": true,
        "id": "HJddrgujG59V",
        "colab": {
          "base_uri": "https://localhost:8080/"
        },
        "outputId": "eed8c0ec-7a50-4092-eaad-d2983833cdf0"
      },
      "outputs": [
        {
          "output_type": "stream",
          "name": "stdout",
          "text": [
            "<html lang=\"en\" op=\"news\"><head><meta name=\"referrer\" content=\"origin\"><meta name=\"viewport\" content=\"width=device-width, initial-scale=1.0\"><link rel=\"stylesheet\" type=\"text/css\" href=\"news.css?pYHg5a1iux05nAtFWi4o\">\n",
            "        <link rel=\"shortcut icon\" href=\"favicon.ico\">\n",
            "          <link rel=\"alternate\" type=\"application/rss+xml\" title=\"RSS\" href=\"rss\">\n",
            "        <title>Hacker News</title></head><body><center><table id=\"hnmain\" border=\"0\" cellpadding=\"0\" cellspacing=\"0\" width=\"85%\" bgcolor=\"#f6f6ef\">\n",
            "        <tr><td bgcolor=\"#ff6600\"><table border=\"0\" cellpadding=\"0\" cellspacing=\"0\" width=\"100%\" style=\"padding:2px\"><tr><td style=\"width:18px;padding-right:4px\"><a href=\"https://news.ycombinator.com\"><img src=\"y18.svg\" width=\"18\" height=\"18\" style=\"border:1px white solid; display:block\"></a></td>\n",
            "                  <td style=\"line-height:12pt; height:10px;\"><span class=\"pagetop\"><b class=\"hnname\"><a href=\"news\">Hacker News</a></b>\n",
            "                            <a href=\"newest\">new</a> | <a href=\"front\">past</a> | <a href=\"newcomments\">comments</a> | <a href=\"ask\">ask</a> | <a href=\"show\">show</a> | <a href=\"jobs\">jobs</a> | <a href=\"submit\">submit</a>            </span></td><td style=\"text-align:right;padding-right:4px;\"><span class=\"pagetop\">\n",
            "                              <a href=\"login?goto=news\">login</a>\n",
            "                          </span></td>\n",
            "              </tr></table></td></tr>\n",
            "<tr id=\"pagespace\" title=\"\" style=\"height:10px\"></tr><tr><td><table border=\"0\" cellpadding=\"0\" cellspacing=\"0\">\n",
            "            <tr class='athing' id='37876988'>\n",
            "      <td align=\"right\" valign=\"top\" class=\"title\"><span class=\"rank\">1.</span></td>      <td valign=\"top\" class=\"votelinks\"><center><a id='up_37876988'href='vote?id=37876988&amp;how=up&amp;goto=news'><div class='votearrow' title='upvote'></div></a></center></td><td class=\"title\"><span class=\"titleline\"><a href=\"https://theblindkitchen.com/how-to-cook-ground-meat-perfectly-every-time/\" rel=\"noreferrer\">How to cook ground meat perfectly without vision</a><span class=\"sitebit comhead\"> (<a href=\"from?site=theblindkitchen.com\"><span class=\"sitestr\">theblindkitchen.com</span></a>)</span></span></td></tr><tr><td colspan=\"2\"></td><td class=\"subtext\"><span class=\"subline\">\n",
            "          <span class=\"score\" id=\"score_37876988\">191 points</span> by <a href=\"user?id=stacktrust\" class=\"hnuser\">stacktrust</a> <span class=\"age\" title=\"2023-10-14T00:19:37\"><a href=\"item?id=37876988\">7 hours ago</a></span> <span id=\"unv_37876988\"></span> | <a href=\"hide?id=37876988&amp;goto=news\">hide</a> | <a href=\"item?id=37876988\">69&nbsp;comments</a>        </span>\n",
            "              </td></tr>\n",
            "      <tr class=\"spacer\" style=\"height:5px\"></tr>\n",
            "                <tr class='athing' id='37872774'>\n",
            "      <td align=\"right\" valign=\"top\" class=\"title\"><span class=\"rank\">2.</span></td>      <td valign=\"top\" class=\"votelinks\"><center><a id='up_37872774'href='vote?id=37872774&amp;how=up&amp;goto=news'><div class='votearrow' title='upvote'></div></a></center></td><td class=\"title\"><span class=\"titleline\"><a href=\"https://www.wired.com/story/whole-earth-catalog-now-online-internet-archive/\" rel=\"noreferrer\">The whole of the Whole Earth Catalog is now online</a><span class=\"sitebit comhead\"> (<a href=\"from?site=wired.com\"><span class=\"sitestr\">wired.com</span></a>)</span></span></td></tr><tr><td colspan=\"2\"></td><td class=\"subtext\"><span class=\"subline\">\n",
            "          <span class=\"score\" id=\"score_37872774\">218 points</span> by <a href=\"user?id=privong\" class=\"hnuser\">privong</a> <span class=\"age\" title=\"2023-10-13T16:57:12\"><a href=\"item?id=37872774\">11 hours ago</a></span> <span id=\"unv_37872774\"></span> | <a href=\"hide?id=37872774&amp;goto=news\">hide</a> | <a href=\"item?id=37872774\">42&nbsp;comments</a>        </span>\n",
            "              </td></tr>\n",
            "      <tr class=\"spacer\" style=\"height:5px\"></tr>\n",
            "                <tr class='athing' id='37869144'>\n",
            "      <td align=\"right\" valign=\"top\" class=\"title\"><span class=\"rank\">3.</span></td>      <td valign=\"top\" class=\"votelinks\"><center><a id='up_37869144'href='vote?id=37869144&amp;how=up&amp;goto=news'><div class='votearrow' title='upvote'></div></a></center></td><td class=\"title\"><span class=\"titleline\"><a href=\"https://wordwarriors.wayne.edu/list\" rel=\"noreferrer\">Words that deserve wider use</a><span class=\"sitebit comhead\"> (<a href=\"from?site=wayne.edu\"><span class=\"sitestr\">wayne.edu</span></a>)</span></span></td></tr><tr><td colspan=\"2\"></td><td class=\"subtext\"><span class=\"subline\">\n",
            "          <span class=\"score\" id=\"score_37869144\">25 points</span> by <a href=\"user?id=surprisetalk\" class=\"hnuser\">surprisetalk</a> <span class=\"age\" title=\"2023-10-13T10:52:38\"><a href=\"item?id=37869144\">2 hours ago</a></span> <span id=\"unv_37869144\"></span> | <a href=\"hide?id=37869144&amp;goto=news\">hide</a> | <a href=\"item?id=37869144\">6&nbsp;comments</a>        </span>\n",
            "              </td></tr>\n",
            "      <tr class=\"spacer\" style=\"height:5px\"></tr>\n",
            "                <tr class='athing' id='37874891'>\n",
            "      <td align=\"right\" valign=\"top\" class=\"title\"><span class=\"rank\">4.</span></td>      <td valign=\"top\" class=\"votelinks\"><center><a id='up_37874891'href='vote?id=37874891&amp;how=up&amp;goto=news'><div class='votearrow' title='upvote'></div></a></center></td><td class=\"title\"><span class=\"titleline\"><a href=\"https://arxiv.org/abs/2310.03589\" rel=\"noreferrer\">TimeGPT-1</a><span class=\"sitebit comhead\"> (<a href=\"from?site=arxiv.org\"><span class=\"sitestr\">arxiv.org</span></a>)</span></span></td></tr><tr><td colspan=\"2\"></td><td class=\"subtext\"><span class=\"subline\">\n",
            "          <span class=\"score\" id=\"score_37874891\">330 points</span> by <a href=\"user?id=PaulHoule\" class=\"hnuser\">PaulHoule</a> <span class=\"age\" title=\"2023-10-13T19:58:32\"><a href=\"item?id=37874891\">11 hours ago</a></span> <span id=\"unv_37874891\"></span> | <a href=\"hide?id=37874891&amp;goto=news\">hide</a> | <a href=\"item?id=37874891\">101&nbsp;comments</a>        </span>\n",
            "              </td></tr>\n",
            "      <tr class=\"spacer\" style=\"height:5px\"></tr>\n",
            "                <tr class='athing' id='37878077'>\n",
            "      <td align=\"right\" valign=\"top\" class=\"title\"><span class=\"rank\">5.</span></td>      <td valign=\"top\" class=\"votelinks\"><center><a id='up_37878077'href='vote?id=37878077&amp;how=up&amp;goto=news'><div class='votearrow' title='upvote'></div></a></center></td><td class=\"title\"><span class=\"titleline\"><a href=\"https://utcc.utoronto.ca/~cks/space/blog/unix/OpenBSDPfStatesAndDoS\" rel=\"noreferrer\">OpenBSD PF-based firewalls suffer differently from denial of service attacks</a><span class=\"sitebit comhead\"> (<a href=\"from?site=utoronto.ca\"><span class=\"sitestr\">utoronto.ca</span></a>)</span></span></td></tr><tr><td colspan=\"2\"></td><td class=\"subtext\"><span class=\"subline\">\n",
            "          <span class=\"score\" id=\"score_37878077\">13 points</span> by <a href=\"user?id=mfrw\" class=\"hnuser\">mfrw</a> <span class=\"age\" title=\"2023-10-14T04:29:34\"><a href=\"item?id=37878077\">2 hours ago</a></span> <span id=\"unv_37878077\"></span> | <a href=\"hide?id=37878077&amp;goto=news\">hide</a> | <a href=\"item?id=37878077\">2&nbsp;comments</a>        </span>\n",
            "              </td></tr>\n",
            "      <tr class=\"spacer\" style=\"height:5px\"></tr>\n",
            "                <tr class='athing' id='37867272'>\n",
            "      <td align=\"right\" valign=\"top\" class=\"title\"><span class=\"rank\">6.</span></td>      <td valign=\"top\" class=\"votelinks\"><center><a id='up_37867272'href='vote?id=37867272&amp;how=up&amp;goto=news'><div class='votearrow' title='upvote'></div></a></center></td><td class=\"title\"><span class=\"titleline\"><a href=\"https://www.mathjax.org/\" rel=\"noreferrer\">MathJax: Beautiful and accessible math in all browsers</a><span class=\"sitebit comhead\"> (<a href=\"from?site=mathjax.org\"><span class=\"sitestr\">mathjax.org</span></a>)</span></span></td></tr><tr><td colspan=\"2\"></td><td class=\"subtext\"><span class=\"subline\">\n",
            "          <span class=\"score\" id=\"score_37867272\">160 points</span> by <a href=\"user?id=peter_d_sherman\" class=\"hnuser\">peter_d_sherman</a> <span class=\"age\" title=\"2023-10-13T06:08:50\"><a href=\"item?id=37867272\">12 hours ago</a></span> <span id=\"unv_37867272\"></span> | <a href=\"hide?id=37867272&amp;goto=news\">hide</a> | <a href=\"item?id=37867272\">65&nbsp;comments</a>        </span>\n",
            "              </td></tr>\n",
            "      <tr class=\"spacer\" style=\"height:5px\"></tr>\n",
            "                <tr class='athing' id='37878633'>\n",
            "      <td align=\"right\" valign=\"top\" class=\"title\"><span class=\"rank\">7.</span></td>      <td><img src=\"s.gif\" height=\"1\" width=\"14\"></td>       <td class=\"title\"><span class=\"titleline\"><a href=\"item?id=37878633\">Meticulous (YC S21) Is Hiring to Build AI for Testing</a></span></td></tr><tr><td colspan=\"2\"></td><td class=\"subtext\">\n",
            "        <span class=\"age\" title=\"2023-10-14T07:00:17\"><a href=\"item?id=37878633\">20 minutes ago</a></span> | <a href=\"hide?id=37878633&amp;goto=news\">hide</a>      </td></tr>\n",
            "      <tr class=\"spacer\" style=\"height:5px\"></tr>\n",
            "                <tr class='athing' id='37875396'>\n",
            "      <td align=\"right\" valign=\"top\" class=\"title\"><span class=\"rank\">8.</span></td>      <td valign=\"top\" class=\"votelinks\"><center><a id='up_37875396'href='vote?id=37875396&amp;how=up&amp;goto=news'><div class='votearrow' title='upvote'></div></a></center></td><td class=\"title\"><span class=\"titleline\"><a href=\"https://phys.org/news/2009-11-extinct-goat-cold-blooded.html\" rel=\"noreferrer\">Extinct goat was cold-blooded (2009)</a><span class=\"sitebit comhead\"> (<a href=\"from?site=phys.org\"><span class=\"sitestr\">phys.org</span></a>)</span></span></td></tr><tr><td colspan=\"2\"></td><td class=\"subtext\"><span class=\"subline\">\n",
            "          <span class=\"score\" id=\"score_37875396\">103 points</span> by <a href=\"user?id=samaysharma\" class=\"hnuser\">samaysharma</a> <span class=\"age\" title=\"2023-10-13T20:41:16\"><a href=\"item?id=37875396\">9 hours ago</a></span> <span id=\"unv_37875396\"></span> | <a href=\"hide?id=37875396&amp;goto=news\">hide</a> | <a href=\"item?id=37875396\">67&nbsp;comments</a>        </span>\n",
            "              </td></tr>\n",
            "      <tr class=\"spacer\" style=\"height:5px\"></tr>\n",
            "                <tr class='athing' id='37841865'>\n",
            "      <td align=\"right\" valign=\"top\" class=\"title\"><span class=\"rank\">9.</span></td>      <td valign=\"top\" class=\"votelinks\"><center><a id='up_37841865'href='vote?id=37841865&amp;how=up&amp;goto=news'><div class='votearrow' title='upvote'></div></a></center></td><td class=\"title\"><span class=\"titleline\"><a href=\"https://www.stanleyinfrastructure.com/products/underwater-chain-saws\" rel=\"noreferrer\">Underwater Chain Saws</a><span class=\"sitebit comhead\"> (<a href=\"from?site=stanleyinfrastructure.com\"><span class=\"sitestr\">stanleyinfrastructure.com</span></a>)</span></span></td></tr><tr><td colspan=\"2\"></td><td class=\"subtext\"><span class=\"subline\">\n",
            "          <span class=\"score\" id=\"score_37841865\">86 points</span> by <a href=\"user?id=vincent_s\" class=\"hnuser\">vincent_s</a> <span class=\"age\" title=\"2023-10-11T07:27:07\"><a href=\"item?id=37841865\">7 hours ago</a></span> <span id=\"unv_37841865\"></span> | <a href=\"hide?id=37841865&amp;goto=news\">hide</a> | <a href=\"item?id=37841865\">38&nbsp;comments</a>        </span>\n",
            "              </td></tr>\n",
            "      <tr class=\"spacer\" style=\"height:5px\"></tr>\n",
            "                <tr class='athing' id='37877125'>\n",
            "      <td align=\"right\" valign=\"top\" class=\"title\"><span class=\"rank\">10.</span></td>      <td valign=\"top\" class=\"votelinks\"><center><a id='up_37877125'href='vote?id=37877125&amp;how=up&amp;goto=news'><div class='votearrow' title='upvote'></div></a></center></td><td class=\"title\"><span class=\"titleline\"><a href=\"https://arxiv.org/abs/2310.07820\" rel=\"noreferrer\">Large Language Models Are Zero-Shot Time Series Forecasters</a><span class=\"sitebit comhead\"> (<a href=\"from?site=arxiv.org\"><span class=\"sitestr\">arxiv.org</span></a>)</span></span></td></tr><tr><td colspan=\"2\"></td><td class=\"subtext\"><span class=\"subline\">\n",
            "          <span class=\"score\" id=\"score_37877125\">34 points</span> by <a href=\"user?id=Anon84\" class=\"hnuser\">Anon84</a> <span class=\"age\" title=\"2023-10-14T00:46:59\"><a href=\"item?id=37877125\">6 hours ago</a></span> <span id=\"unv_37877125\"></span> | <a href=\"hide?id=37877125&amp;goto=news\">hide</a> | <a href=\"item?id=37877125\">5&nbsp;comments</a>        </span>\n",
            "              </td></tr>\n",
            "      <tr class=\"spacer\" style=\"height:5px\"></tr>\n",
            "                <tr class='athing' id='37873749'>\n",
            "      <td align=\"right\" valign=\"top\" class=\"title\"><span class=\"rank\">11.</span></td>      <td valign=\"top\" class=\"votelinks\"><center><a id='up_37873749'href='vote?id=37873749&amp;how=up&amp;goto=news'><div class='votearrow' title='upvote'></div></a></center></td><td class=\"title\"><span class=\"titleline\"><a href=\"https://github.com/dmunozv04/iSponsorBlockTV\">iSponsorBlockTV v2: SponsorBlock for TVs and game consoles</a><span class=\"sitebit comhead\"> (<a href=\"from?site=github.com/dmunozv04\"><span class=\"sitestr\">github.com/dmunozv04</span></a>)</span></span></td></tr><tr><td colspan=\"2\"></td><td class=\"subtext\"><span class=\"subline\">\n",
            "          <span class=\"score\" id=\"score_37873749\">194 points</span> by <a href=\"user?id=dmunozv04\" class=\"hnuser\">dmunozv04</a> <span class=\"age\" title=\"2023-10-13T18:19:38\"><a href=\"item?id=37873749\">13 hours ago</a></span> <span id=\"unv_37873749\"></span> | <a href=\"hide?id=37873749&amp;goto=news\">hide</a> | <a href=\"item?id=37873749\">69&nbsp;comments</a>        </span>\n",
            "              </td></tr>\n",
            "      <tr class=\"spacer\" style=\"height:5px\"></tr>\n",
            "                <tr class='athing' id='37842993'>\n",
            "      <td align=\"right\" valign=\"top\" class=\"title\"><span class=\"rank\">12.</span></td>      <td valign=\"top\" class=\"votelinks\"><center><a id='up_37842993'href='vote?id=37842993&amp;how=up&amp;goto=news'><div class='votearrow' title='upvote'></div></a></center></td><td class=\"title\"><span class=\"titleline\"><a href=\"https://themillions.com/2023/10/in-search-of-writers-haunts-bruce-chatwin.html\" rel=\"noreferrer\">In Search of Writers&#x27; Haunts</a><span class=\"sitebit comhead\"> (<a href=\"from?site=themillions.com\"><span class=\"sitestr\">themillions.com</span></a>)</span></span></td></tr><tr><td colspan=\"2\"></td><td class=\"subtext\"><span class=\"subline\">\n",
            "          <span class=\"score\" id=\"score_37842993\">20 points</span> by <a href=\"user?id=wawayanda\" class=\"hnuser\">wawayanda</a> <span class=\"age\" title=\"2023-10-11T11:03:13\"><a href=\"item?id=37842993\">4 hours ago</a></span> <span id=\"unv_37842993\"></span> | <a href=\"hide?id=37842993&amp;goto=news\">hide</a> | <a href=\"item?id=37842993\">3&nbsp;comments</a>        </span>\n",
            "              </td></tr>\n",
            "      <tr class=\"spacer\" style=\"height:5px\"></tr>\n",
            "                <tr class='athing' id='37878145'>\n",
            "      <td align=\"right\" valign=\"top\" class=\"title\"><span class=\"rank\">13.</span></td>      <td valign=\"top\" class=\"votelinks\"><center><a id='up_37878145'href='vote?id=37878145&amp;how=up&amp;goto=news'><div class='votearrow' title='upvote'></div></a></center></td><td class=\"title\"><span class=\"titleline\"><a href=\"https://docs.gsplat.studio/\" rel=\"nofollow noreferrer\">Gsplat: CUDA accelerated rasterization of gaussians with Python bindings</a><span class=\"sitebit comhead\"> (<a href=\"from?site=gsplat.studio\"><span class=\"sitestr\">gsplat.studio</span></a>)</span></span></td></tr><tr><td colspan=\"2\"></td><td class=\"subtext\"><span class=\"subline\">\n",
            "          <span class=\"score\" id=\"score_37878145\">5 points</span> by <a href=\"user?id=tylerneylon\" class=\"hnuser\">tylerneylon</a> <span class=\"age\" title=\"2023-10-14T04:43:58\"><a href=\"item?id=37878145\">2 hours ago</a></span> <span id=\"unv_37878145\"></span> | <a href=\"hide?id=37878145&amp;goto=news\">hide</a> | <a href=\"item?id=37878145\">discuss</a>        </span>\n",
            "              </td></tr>\n",
            "      <tr class=\"spacer\" style=\"height:5px\"></tr>\n",
            "                <tr class='athing' id='37873798'>\n",
            "      <td align=\"right\" valign=\"top\" class=\"title\"><span class=\"rank\">14.</span></td>      <td valign=\"top\" class=\"votelinks\"><center><a id='up_37873798'href='vote?id=37873798&amp;how=up&amp;goto=news'><div class='votearrow' title='upvote'></div></a></center></td><td class=\"title\"><span class=\"titleline\"><a href=\"https://florey.edu.au/news/2023/10/remarkable-medical-discovery-for-sepsis-moves-to-next-phase-of-human-trials/\" rel=\"noreferrer\">Sodium ascorbate treatment for sepsis moves to next phase of human trials</a><span class=\"sitebit comhead\"> (<a href=\"from?site=florey.edu.au\"><span class=\"sitestr\">florey.edu.au</span></a>)</span></span></td></tr><tr><td colspan=\"2\"></td><td class=\"subtext\"><span class=\"subline\">\n",
            "          <span class=\"score\" id=\"score_37873798\">145 points</span> by <a href=\"user?id=clouddrover\" class=\"hnuser\">clouddrover</a> <span class=\"age\" title=\"2023-10-13T18:23:46\"><a href=\"item?id=37873798\">12 hours ago</a></span> <span id=\"unv_37873798\"></span> | <a href=\"hide?id=37873798&amp;goto=news\">hide</a> | <a href=\"item?id=37873798\">62&nbsp;comments</a>        </span>\n",
            "              </td></tr>\n",
            "      <tr class=\"spacer\" style=\"height:5px\"></tr>\n",
            "                <tr class='athing' id='37869119'>\n",
            "      <td align=\"right\" valign=\"top\" class=\"title\"><span class=\"rank\">15.</span></td>      <td valign=\"top\" class=\"votelinks\"><center><a id='up_37869119'href='vote?id=37869119&amp;how=up&amp;goto=news'><div class='votearrow' title='upvote'></div></a></center></td><td class=\"title\"><span class=\"titleline\"><a href=\"https://blog.gingerbeardman.com/2023/10/13/kenichi-shinohara-pixel-art-ukiyo-e/\" rel=\"nofollow noreferrer\">Kenichi Shinohara&#x27;s pixel art Ukiyo-e (1987)</a><span class=\"sitebit comhead\"> (<a href=\"from?site=gingerbeardman.com\"><span class=\"sitestr\">gingerbeardman.com</span></a>)</span></span></td></tr><tr><td colspan=\"2\"></td><td class=\"subtext\"><span class=\"subline\">\n",
            "          <span class=\"score\" id=\"score_37869119\">6 points</span> by <a href=\"user?id=msephton\" class=\"hnuser\">msephton</a> <span class=\"age\" title=\"2023-10-13T10:48:54\"><a href=\"item?id=37869119\">2 hours ago</a></span> <span id=\"unv_37869119\"></span> | <a href=\"hide?id=37869119&amp;goto=news\">hide</a> | <a href=\"item?id=37869119\">1&nbsp;comment</a>        </span>\n",
            "              </td></tr>\n",
            "      <tr class=\"spacer\" style=\"height:5px\"></tr>\n",
            "                <tr class='athing' id='37868524'>\n",
            "      <td align=\"right\" valign=\"top\" class=\"title\"><span class=\"rank\">16.</span></td>      <td valign=\"top\" class=\"votelinks\"><center><a id='up_37868524'href='vote?id=37868524&amp;how=up&amp;goto=news'><div class='votearrow' title='upvote'></div></a></center></td><td class=\"title\"><span class=\"titleline\"><a href=\"https://lukasschwarz.de/ut61b\" rel=\"noreferrer\">Protocol Analysis and Libusb Linux Driver for the Uni-T UT61B Multimeter (2014)</a><span class=\"sitebit comhead\"> (<a href=\"from?site=lukasschwarz.de\"><span class=\"sitestr\">lukasschwarz.de</span></a>)</span></span></td></tr><tr><td colspan=\"2\"></td><td class=\"subtext\"><span class=\"subline\">\n",
            "          <span class=\"score\" id=\"score_37868524\">21 points</span> by <a href=\"user?id=osivertsson\" class=\"hnuser\">osivertsson</a> <span class=\"age\" title=\"2023-10-13T09:15:37\"><a href=\"item?id=37868524\">6 hours ago</a></span> <span id=\"unv_37868524\"></span> | <a href=\"hide?id=37868524&amp;goto=news\">hide</a> | <a href=\"item?id=37868524\">4&nbsp;comments</a>        </span>\n",
            "              </td></tr>\n",
            "      <tr class=\"spacer\" style=\"height:5px\"></tr>\n",
            "                <tr class='athing' id='37875542'>\n",
            "      <td align=\"right\" valign=\"top\" class=\"title\"><span class=\"rank\">17.</span></td>      <td valign=\"top\" class=\"votelinks\"><center><a id='up_37875542'href='vote?id=37875542&amp;how=up&amp;goto=news'><div class='votearrow' title='upvote'></div></a></center></td><td class=\"title\"><span class=\"titleline\"><a href=\"https://github.com/PWhiddy/PokemonRedExperiments\">Playing Pokemon Red with Reinforcement Learning</a><span class=\"sitebit comhead\"> (<a href=\"from?site=github.com/pwhiddy\"><span class=\"sitestr\">github.com/pwhiddy</span></a>)</span></span></td></tr><tr><td colspan=\"2\"></td><td class=\"subtext\"><span class=\"subline\">\n",
            "          <span class=\"score\" id=\"score_37875542\">103 points</span> by <a href=\"user?id=GaggiX\" class=\"hnuser\">GaggiX</a> <span class=\"age\" title=\"2023-10-13T20:57:35\"><a href=\"item?id=37875542\">9 hours ago</a></span> <span id=\"unv_37875542\"></span> | <a href=\"hide?id=37875542&amp;goto=news\">hide</a> | <a href=\"item?id=37875542\">49&nbsp;comments</a>        </span>\n",
            "              </td></tr>\n",
            "      <tr class=\"spacer\" style=\"height:5px\"></tr>\n",
            "                <tr class='athing' id='37865610'>\n",
            "      <td align=\"right\" valign=\"top\" class=\"title\"><span class=\"rank\">18.</span></td>      <td valign=\"top\" class=\"votelinks\"><center><a id='up_37865610'href='vote?id=37865610&amp;how=up&amp;goto=news'><div class='votearrow' title='upvote'></div></a></center></td><td class=\"title\"><span class=\"titleline\"><a href=\"https://phys.org/news/2023-10-scientists-generate-single-cell-atlas-primate.html\" rel=\"noreferrer\">Scientists generate first single-cell atlas of the primate brain</a><span class=\"sitebit comhead\"> (<a href=\"from?site=phys.org\"><span class=\"sitestr\">phys.org</span></a>)</span></span></td></tr><tr><td colspan=\"2\"></td><td class=\"subtext\"><span class=\"subline\">\n",
            "          <span class=\"score\" id=\"score_37865610\">50 points</span> by <a href=\"user?id=wglb\" class=\"hnuser\">wglb</a> <span class=\"age\" title=\"2023-10-13T01:51:10\"><a href=\"item?id=37865610\">10 hours ago</a></span> <span id=\"unv_37865610\"></span> | <a href=\"hide?id=37865610&amp;goto=news\">hide</a> | <a href=\"item?id=37865610\">3&nbsp;comments</a>        </span>\n",
            "              </td></tr>\n",
            "      <tr class=\"spacer\" style=\"height:5px\"></tr>\n",
            "                <tr class='athing' id='37877470'>\n",
            "      <td align=\"right\" valign=\"top\" class=\"title\"><span class=\"rank\">19.</span></td>      <td valign=\"top\" class=\"votelinks\"><center><a id='up_37877470'href='vote?id=37877470&amp;how=up&amp;goto=news'><div class='votearrow' title='upvote'></div></a></center></td><td class=\"title\"><span class=\"titleline\"><a href=\"https://prog21.dadgum.com/87.html\" rel=\"noreferrer\">Write Code Like You Just Learned How to Program</a><span class=\"sitebit comhead\"> (<a href=\"from?site=dadgum.com\"><span class=\"sitestr\">dadgum.com</span></a>)</span></span></td></tr><tr><td colspan=\"2\"></td><td class=\"subtext\"><span class=\"subline\">\n",
            "          <span class=\"score\" id=\"score_37877470\">18 points</span> by <a href=\"user?id=raytopia\" class=\"hnuser\">raytopia</a> <span class=\"age\" title=\"2023-10-14T01:54:53\"><a href=\"item?id=37877470\">5 hours ago</a></span> <span id=\"unv_37877470\"></span> | <a href=\"hide?id=37877470&amp;goto=news\">hide</a> | <a href=\"item?id=37877470\">10&nbsp;comments</a>        </span>\n",
            "              </td></tr>\n",
            "      <tr class=\"spacer\" style=\"height:5px\"></tr>\n",
            "                <tr class='athing' id='37872904'>\n",
            "      <td align=\"right\" valign=\"top\" class=\"title\"><span class=\"rank\">20.</span></td>      <td valign=\"top\" class=\"votelinks\"><center><a id='up_37872904'href='vote?id=37872904&amp;how=up&amp;goto=news'><div class='votearrow' title='upvote'></div></a></center></td><td class=\"title\"><span class=\"titleline\"><a href=\"https://www.jamesdysonaward.org/en-AU/2023/project/revr/\" rel=\"noreferrer\">Make Your Car Electric for 5K in Less Than a Day</a><span class=\"sitebit comhead\"> (<a href=\"from?site=jamesdysonaward.org\"><span class=\"sitestr\">jamesdysonaward.org</span></a>)</span></span></td></tr><tr><td colspan=\"2\"></td><td class=\"subtext\"><span class=\"subline\">\n",
            "          <span class=\"score\" id=\"score_37872904\">109 points</span> by <a href=\"user?id=belter\" class=\"hnuser\">belter</a> <span class=\"age\" title=\"2023-10-13T17:09:22\"><a href=\"item?id=37872904\">14 hours ago</a></span> <span id=\"unv_37872904\"></span> | <a href=\"hide?id=37872904&amp;goto=news\">hide</a> | <a href=\"item?id=37872904\">56&nbsp;comments</a>        </span>\n",
            "              </td></tr>\n",
            "      <tr class=\"spacer\" style=\"height:5px\"></tr>\n",
            "                <tr class='athing' id='37867635'>\n",
            "      <td align=\"right\" valign=\"top\" class=\"title\"><span class=\"rank\">21.</span></td>      <td valign=\"top\" class=\"votelinks\"><center><a id='up_37867635'href='vote?id=37867635&amp;how=up&amp;goto=news'><div class='votearrow' title='upvote'></div></a></center></td><td class=\"title\"><span class=\"titleline\"><a href=\"https://arxiv.org/abs/2310.06816\" rel=\"noreferrer\">Text embeddings reveal almost as much as text</a><span class=\"sitebit comhead\"> (<a href=\"from?site=arxiv.org\"><span class=\"sitestr\">arxiv.org</span></a>)</span></span></td></tr><tr><td colspan=\"2\"></td><td class=\"subtext\"><span class=\"subline\">\n",
            "          <span class=\"score\" id=\"score_37867635\">138 points</span> by <a href=\"user?id=alexmolas\" class=\"hnuser\">alexmolas</a> <span class=\"age\" title=\"2023-10-13T07:03:47\"><a href=\"item?id=37867635\">14 hours ago</a></span> <span id=\"unv_37867635\"></span> | <a href=\"hide?id=37867635&amp;goto=news\">hide</a> | <a href=\"item?id=37867635\">38&nbsp;comments</a>        </span>\n",
            "              </td></tr>\n",
            "      <tr class=\"spacer\" style=\"height:5px\"></tr>\n",
            "                <tr class='athing' id='37857417'>\n",
            "      <td align=\"right\" valign=\"top\" class=\"title\"><span class=\"rank\">22.</span></td>      <td valign=\"top\" class=\"votelinks\"><center><a id='up_37857417'href='vote?id=37857417&amp;how=up&amp;goto=news'><div class='votearrow' title='upvote'></div></a></center></td><td class=\"title\"><span class=\"titleline\"><a href=\"https://scrollprize.org/firstletters\" rel=\"noreferrer\">First word discovered in unopened Herculaneum scroll by CS student</a><span class=\"sitebit comhead\"> (<a href=\"from?site=scrollprize.org\"><span class=\"sitestr\">scrollprize.org</span></a>)</span></span></td></tr><tr><td colspan=\"2\"></td><td class=\"subtext\"><span class=\"subline\">\n",
            "          <span class=\"score\" id=\"score_37857417\">955 points</span> by <a href=\"user?id=razin\" class=\"hnuser\">razin</a> <span class=\"age\" title=\"2023-10-12T14:11:18\"><a href=\"item?id=37857417\">1 day ago</a></span> <span id=\"unv_37857417\"></span> | <a href=\"hide?id=37857417&amp;goto=news\">hide</a> | <a href=\"item?id=37857417\">191&nbsp;comments</a>        </span>\n",
            "              </td></tr>\n",
            "      <tr class=\"spacer\" style=\"height:5px\"></tr>\n",
            "                <tr class='athing' id='37867421'>\n",
            "      <td align=\"right\" valign=\"top\" class=\"title\"><span class=\"rank\">23.</span></td>      <td valign=\"top\" class=\"votelinks\"><center><a id='up_37867421'href='vote?id=37867421&amp;how=up&amp;goto=news'><div class='votearrow' title='upvote'></div></a></center></td><td class=\"title\"><span class=\"titleline\"><a href=\"https://statmodeling.stat.columbia.edu/2023/10/12/debate-over-effect-of-reduced-prosecutions-on-urban-homicides-also-larger-questions-about-synthetic-control-methods-in-causal-inference/\" rel=\"nofollow noreferrer\">Questions about synthetic control methods in causal inference</a><span class=\"sitebit comhead\"> (<a href=\"from?site=columbia.edu\"><span class=\"sitestr\">columbia.edu</span></a>)</span></span></td></tr><tr><td colspan=\"2\"></td><td class=\"subtext\"><span class=\"subline\">\n",
            "          <span class=\"score\" id=\"score_37867421\">11 points</span> by <a href=\"user?id=luu\" class=\"hnuser\">luu</a> <span class=\"age\" title=\"2023-10-13T06:30:32\"><a href=\"item?id=37867421\">3 hours ago</a></span> <span id=\"unv_37867421\"></span> | <a href=\"hide?id=37867421&amp;goto=news\">hide</a> | <a href=\"item?id=37867421\">discuss</a>        </span>\n",
            "              </td></tr>\n",
            "      <tr class=\"spacer\" style=\"height:5px\"></tr>\n",
            "                <tr class='athing' id='37869012'>\n",
            "      <td align=\"right\" valign=\"top\" class=\"title\"><span class=\"rank\">24.</span></td>      <td valign=\"top\" class=\"votelinks\"><center><a id='up_37869012'href='vote?id=37869012&amp;how=up&amp;goto=news'><div class='votearrow' title='upvote'></div></a></center></td><td class=\"title\"><span class=\"titleline\"><a href=\"https://www.atlasobscura.com/articles/how-to-make-medieval-mead-bochet\" rel=\"noreferrer\">The Quest to Recreate a Lost and &#x27;Terrifying&#x27; Medieval Mead</a><span class=\"sitebit comhead\"> (<a href=\"from?site=atlasobscura.com\"><span class=\"sitestr\">atlasobscura.com</span></a>)</span></span></td></tr><tr><td colspan=\"2\"></td><td class=\"subtext\"><span class=\"subline\">\n",
            "          <span class=\"score\" id=\"score_37869012\">67 points</span> by <a href=\"user?id=rwmj\" class=\"hnuser\">rwmj</a> <span class=\"age\" title=\"2023-10-13T10:28:43\"><a href=\"item?id=37869012\">11 hours ago</a></span> <span id=\"unv_37869012\"></span> | <a href=\"hide?id=37869012&amp;goto=news\">hide</a> | <a href=\"item?id=37869012\">25&nbsp;comments</a>        </span>\n",
            "              </td></tr>\n",
            "      <tr class=\"spacer\" style=\"height:5px\"></tr>\n",
            "                <tr class='athing' id='37842914'>\n",
            "      <td align=\"right\" valign=\"top\" class=\"title\"><span class=\"rank\">25.</span></td>      <td valign=\"top\" class=\"votelinks\"><center><a id='up_37842914'href='vote?id=37842914&amp;how=up&amp;goto=news'><div class='votearrow' title='upvote'></div></a></center></td><td class=\"title\"><span class=\"titleline\"><a href=\"https://alexharri.com/blog/grid-engine-performance\" rel=\"noreferrer\">Making GRID&#x27;s spreadsheet engine 10% faster</a><span class=\"sitebit comhead\"> (<a href=\"from?site=alexharri.com\"><span class=\"sitestr\">alexharri.com</span></a>)</span></span></td></tr><tr><td colspan=\"2\"></td><td class=\"subtext\"><span class=\"subline\">\n",
            "          <span class=\"score\" id=\"score_37842914\">49 points</span> by <a href=\"user?id=alexharri\" class=\"hnuser\">alexharri</a> <span class=\"age\" title=\"2023-10-11T10:49:16\"><a href=\"item?id=37842914\">11 hours ago</a></span> <span id=\"unv_37842914\"></span> | <a href=\"hide?id=37842914&amp;goto=news\">hide</a> | <a href=\"item?id=37842914\">3&nbsp;comments</a>        </span>\n",
            "              </td></tr>\n",
            "      <tr class=\"spacer\" style=\"height:5px\"></tr>\n",
            "                <tr class='athing' id='37869269'>\n",
            "      <td align=\"right\" valign=\"top\" class=\"title\"><span class=\"rank\">26.</span></td>      <td valign=\"top\" class=\"votelinks\"><center><a id='up_37869269'href='vote?id=37869269&amp;how=up&amp;goto=news'><div class='votearrow' title='upvote'></div></a></center></td><td class=\"title\"><span class=\"titleline\"><a href=\"https://brainbaking.com/post/2023/09/overlooked-reasons-to-still-buy-physical-media/\" rel=\"noreferrer\">Overlooked reasons to still buy physical media</a><span class=\"sitebit comhead\"> (<a href=\"from?site=brainbaking.com\"><span class=\"sitestr\">brainbaking.com</span></a>)</span></span></td></tr><tr><td colspan=\"2\"></td><td class=\"subtext\"><span class=\"subline\">\n",
            "          <span class=\"score\" id=\"score_37869269\">35 points</span> by <a href=\"user?id=surprisetalk\" class=\"hnuser\">surprisetalk</a> <span class=\"age\" title=\"2023-10-13T11:10:16\"><a href=\"item?id=37869269\">5 hours ago</a></span> <span id=\"unv_37869269\"></span> | <a href=\"hide?id=37869269&amp;goto=news\">hide</a> | <a href=\"item?id=37869269\">26&nbsp;comments</a>        </span>\n",
            "              </td></tr>\n",
            "      <tr class=\"spacer\" style=\"height:5px\"></tr>\n",
            "                <tr class='athing' id='37874587'>\n",
            "      <td align=\"right\" valign=\"top\" class=\"title\"><span class=\"rank\">27.</span></td>      <td valign=\"top\" class=\"votelinks\"><center><a id='up_37874587'href='vote?id=37874587&amp;how=up&amp;goto=news'><div class='votearrow' title='upvote'></div></a></center></td><td class=\"title\"><span class=\"titleline\"><a href=\"https://news.engin.umich.edu/2023/10/these-bubbles-kill-cancer/\" rel=\"noreferrer\">Histotripsy – a technique that harnesses soundwaves to attack cancer</a><span class=\"sitebit comhead\"> (<a href=\"from?site=umich.edu\"><span class=\"sitestr\">umich.edu</span></a>)</span></span></td></tr><tr><td colspan=\"2\"></td><td class=\"subtext\"><span class=\"subline\">\n",
            "          <span class=\"score\" id=\"score_37874587\">132 points</span> by <a href=\"user?id=rmason\" class=\"hnuser\">rmason</a> <span class=\"age\" title=\"2023-10-13T19:33:13\"><a href=\"item?id=37874587\">11 hours ago</a></span> <span id=\"unv_37874587\"></span> | <a href=\"hide?id=37874587&amp;goto=news\">hide</a> | <a href=\"item?id=37874587\">27&nbsp;comments</a>        </span>\n",
            "              </td></tr>\n",
            "      <tr class=\"spacer\" style=\"height:5px\"></tr>\n",
            "                <tr class='athing' id='37872850'>\n",
            "      <td align=\"right\" valign=\"top\" class=\"title\"><span class=\"rank\">28.</span></td>      <td valign=\"top\" class=\"votelinks\"><center><a id='up_37872850'href='vote?id=37872850&amp;how=up&amp;goto=news'><div class='votearrow' title='upvote'></div></a></center></td><td class=\"title\"><span class=\"titleline\"><a href=\"https://en.wikipedia.org/wiki/Jesus_nut\" rel=\"noreferrer\">Jesus nut</a><span class=\"sitebit comhead\"> (<a href=\"from?site=wikipedia.org\"><span class=\"sitestr\">wikipedia.org</span></a>)</span></span></td></tr><tr><td colspan=\"2\"></td><td class=\"subtext\"><span class=\"subline\">\n",
            "          <span class=\"score\" id=\"score_37872850\">180 points</span> by <a href=\"user?id=Boogie_Man\" class=\"hnuser\">Boogie_Man</a> <span class=\"age\" title=\"2023-10-13T17:04:05\"><a href=\"item?id=37872850\">14 hours ago</a></span> <span id=\"unv_37872850\"></span> | <a href=\"hide?id=37872850&amp;goto=news\">hide</a> | <a href=\"item?id=37872850\">90&nbsp;comments</a>        </span>\n",
            "              </td></tr>\n",
            "      <tr class=\"spacer\" style=\"height:5px\"></tr>\n",
            "                <tr class='athing' id='37842100'>\n",
            "      <td align=\"right\" valign=\"top\" class=\"title\"><span class=\"rank\">29.</span></td>      <td valign=\"top\" class=\"votelinks\"><center><a id='up_37842100'href='vote?id=37842100&amp;how=up&amp;goto=news'><div class='votearrow' title='upvote'></div></a></center></td><td class=\"title\"><span class=\"titleline\"><a href=\"https://www.anandtech.com/show/21090/intel-launches-arc-a580-a-179-graphics-card-for-1080p-gaming\" rel=\"noreferrer\">Intel Launches Arc A580: A $179 Graphics Card for 1080p Gaming</a><span class=\"sitebit comhead\"> (<a href=\"from?site=anandtech.com\"><span class=\"sitestr\">anandtech.com</span></a>)</span></span></td></tr><tr><td colspan=\"2\"></td><td class=\"subtext\"><span class=\"subline\">\n",
            "          <span class=\"score\" id=\"score_37842100\">107 points</span> by <a href=\"user?id=rcarmo\" class=\"hnuser\">rcarmo</a> <span class=\"age\" title=\"2023-10-11T08:14:27\"><a href=\"item?id=37842100\">5 hours ago</a></span> <span id=\"unv_37842100\"></span> | <a href=\"hide?id=37842100&amp;goto=news\">hide</a> | <a href=\"item?id=37842100\">56&nbsp;comments</a>        </span>\n",
            "              </td></tr>\n",
            "      <tr class=\"spacer\" style=\"height:5px\"></tr>\n",
            "                <tr class='athing' id='37871534'>\n",
            "      <td align=\"right\" valign=\"top\" class=\"title\"><span class=\"rank\">30.</span></td>      <td valign=\"top\" class=\"votelinks\"><center><a id='up_37871534'href='vote?id=37871534&amp;how=up&amp;goto=news'><div class='votearrow' title='upvote'></div></a></center></td><td class=\"title\"><span class=\"titleline\"><a href=\"https://www.defined.net/blog/would-we-still-create-nebula-today/\" rel=\"noreferrer\">Would we still create Nebula today?</a><span class=\"sitebit comhead\"> (<a href=\"from?site=defined.net\"><span class=\"sitestr\">defined.net</span></a>)</span></span></td></tr><tr><td colspan=\"2\"></td><td class=\"subtext\"><span class=\"subline\">\n",
            "          <span class=\"score\" id=\"score_37871534\">105 points</span> by <a href=\"user?id=carride\" class=\"hnuser\">carride</a> <span class=\"age\" title=\"2023-10-13T15:12:24\"><a href=\"item?id=37871534\">13 hours ago</a></span> <span id=\"unv_37871534\"></span> | <a href=\"hide?id=37871534&amp;goto=news\">hide</a> | <a href=\"item?id=37871534\">29&nbsp;comments</a>        </span>\n",
            "              </td></tr>\n",
            "      <tr class=\"spacer\" style=\"height:5px\"></tr>\n",
            "            <tr class=\"morespace\" style=\"height:10px\"></tr><tr><td colspan=\"2\"></td>\n",
            "      <td class='title'><a href='?p=2' class='morelink' rel='next'>More</a></td>    </tr>\n",
            "  </table>\n",
            "</td></tr>\n",
            "<tr><td><img src=\"s.gif\" height=\"10\" width=\"0\"><table width=\"100%\" cellspacing=\"0\" cellpadding=\"1\"><tr><td bgcolor=\"#ff6600\"></td></tr></table><br>\n",
            "<center><a href=\"https://www.ycombinator.com/apply/\">Applications are open for YC Winter 2024</a></center><br>\n",
            "<center><span class=\"yclinks\"><a href=\"newsguidelines.html\">Guidelines</a> | <a href=\"newsfaq.html\">FAQ</a> | <a href=\"lists\">Lists</a> | <a href=\"https://github.com/HackerNews/API\">API</a> | <a href=\"security.html\">Security</a> | <a href=\"https://www.ycombinator.com/legal/\">Legal</a> | <a href=\"https://www.ycombinator.com/apply/\">Apply to YC</a> | <a href=\"mailto:hn@ycombinator.com\">Contact</a></span><br><br>\n",
            "<form method=\"get\" action=\"//hn.algolia.com/\">Search: <input type=\"text\" name=\"q\" size=\"17\" autocorrect=\"off\" spellcheck=\"false\" autocapitalize=\"off\" autocomplete=\"false\"></form></center></td></tr>      </table></center></body>\n",
            "      <script type='text/javascript' src='hn.js?pYHg5a1iux05nAtFWi4o'></script>\n",
            "  </html>\n",
            "\n"
          ]
        }
      ],
      "source": [
        "import requests\n",
        "\n",
        "# Fetch a web page\n",
        "r = requests.get(\"https://news.ycombinator.com\")\n",
        "print(r.text)"
      ]
    },
    {
      "cell_type": "code",
      "execution_count": 9,
      "metadata": {
        "id": "24gp_p8pG59X",
        "colab": {
          "base_uri": "https://localhost:8080/"
        },
        "outputId": "c4281b03-38af-4a4b-a772-cc995fc2ea52"
      },
      "outputs": [
        {
          "output_type": "stream",
          "name": "stdout",
          "text": [
            "\n",
            "        \n",
            "          \n",
            "        Hacker News\n",
            "        \n",
            "                  Hacker News\n",
            "                            new | past | comments | ask | show | jobs | submit            \n",
            "                              login\n",
            "                          \n",
            "              \n",
            "\n",
            "            \n",
            "      1.      How to cook ground meat perfectly without vision (theblindkitchen.com)\n",
            "          191 points by stacktrust 7 hours ago  | hide | 69&nbsp;comments        \n",
            "              \n",
            "      \n",
            "                \n",
            "      2.      The whole of the Whole Earth Catalog is now online (wired.com)\n",
            "          218 points by privong 11 hours ago  | hide | 42&nbsp;comments        \n",
            "              \n",
            "      \n",
            "                \n",
            "      3.      Words that deserve wider use (wayne.edu)\n",
            "          25 points by surprisetalk 2 hours ago  | hide | 6&nbsp;comments        \n",
            "              \n",
            "      \n",
            "                \n",
            "      4.      TimeGPT-1 (arxiv.org)\n",
            "          330 points by PaulHoule 11 hours ago  | hide | 101&nbsp;comments        \n",
            "              \n",
            "      \n",
            "                \n",
            "      5.      OpenBSD PF-based firewalls suffer differently from denial of service attacks (utoronto.ca)\n",
            "          13 points by mfrw 2 hours ago  | hide | 2&nbsp;comments        \n",
            "              \n",
            "      \n",
            "                \n",
            "      6.      MathJax: Beautiful and accessible math in all browsers (mathjax.org)\n",
            "          160 points by peter_d_sherman 12 hours ago  | hide | 65&nbsp;comments        \n",
            "              \n",
            "      \n",
            "                \n",
            "      7.             Meticulous (YC S21) Is Hiring to Build AI for Testing\n",
            "        20 minutes ago | hide      \n",
            "      \n",
            "                \n",
            "      8.      Extinct goat was cold-blooded (2009) (phys.org)\n",
            "          103 points by samaysharma 9 hours ago  | hide | 67&nbsp;comments        \n",
            "              \n",
            "      \n",
            "                \n",
            "      9.      Underwater Chain Saws (stanleyinfrastructure.com)\n",
            "          86 points by vincent_s 7 hours ago  | hide | 38&nbsp;comments        \n",
            "              \n",
            "      \n",
            "                \n",
            "      10.      Large Language Models Are Zero-Shot Time Series Forecasters (arxiv.org)\n",
            "          34 points by Anon84 6 hours ago  | hide | 5&nbsp;comments        \n",
            "              \n",
            "      \n",
            "                \n",
            "      11.      iSponsorBlockTV v2: SponsorBlock for TVs and game consoles (github.com/dmunozv04)\n",
            "          194 points by dmunozv04 13 hours ago  | hide | 69&nbsp;comments        \n",
            "              \n",
            "      \n",
            "                \n",
            "      12.      In Search of Writers&#x27; Haunts (themillions.com)\n",
            "          20 points by wawayanda 4 hours ago  | hide | 3&nbsp;comments        \n",
            "              \n",
            "      \n",
            "                \n",
            "      13.      Gsplat: CUDA accelerated rasterization of gaussians with Python bindings (gsplat.studio)\n",
            "          5 points by tylerneylon 2 hours ago  | hide | discuss        \n",
            "              \n",
            "      \n",
            "                \n",
            "      14.      Sodium ascorbate treatment for sepsis moves to next phase of human trials (florey.edu.au)\n",
            "          145 points by clouddrover 12 hours ago  | hide | 62&nbsp;comments        \n",
            "              \n",
            "      \n",
            "                \n",
            "      15.      Kenichi Shinohara&#x27;s pixel art Ukiyo-e (1987) (gingerbeardman.com)\n",
            "          6 points by msephton 2 hours ago  | hide | 1&nbsp;comment        \n",
            "              \n",
            "      \n",
            "                \n",
            "      16.      Protocol Analysis and Libusb Linux Driver for the Uni-T UT61B Multimeter (2014) (lukasschwarz.de)\n",
            "          21 points by osivertsson 6 hours ago  | hide | 4&nbsp;comments        \n",
            "              \n",
            "      \n",
            "                \n",
            "      17.      Playing Pokemon Red with Reinforcement Learning (github.com/pwhiddy)\n",
            "          103 points by GaggiX 9 hours ago  | hide | 49&nbsp;comments        \n",
            "              \n",
            "      \n",
            "                \n",
            "      18.      Scientists generate first single-cell atlas of the primate brain (phys.org)\n",
            "          50 points by wglb 10 hours ago  | hide | 3&nbsp;comments        \n",
            "              \n",
            "      \n",
            "                \n",
            "      19.      Write Code Like You Just Learned How to Program (dadgum.com)\n",
            "          18 points by raytopia 5 hours ago  | hide | 10&nbsp;comments        \n",
            "              \n",
            "      \n",
            "                \n",
            "      20.      Make Your Car Electric for 5K in Less Than a Day (jamesdysonaward.org)\n",
            "          109 points by belter 14 hours ago  | hide | 56&nbsp;comments        \n",
            "              \n",
            "      \n",
            "                \n",
            "      21.      Text embeddings reveal almost as much as text (arxiv.org)\n",
            "          138 points by alexmolas 14 hours ago  | hide | 38&nbsp;comments        \n",
            "              \n",
            "      \n",
            "                \n",
            "      22.      First word discovered in unopened Herculaneum scroll by CS student (scrollprize.org)\n",
            "          955 points by razin 1 day ago  | hide | 191&nbsp;comments        \n",
            "              \n",
            "      \n",
            "                \n",
            "      23.      Questions about synthetic control methods in causal inference (columbia.edu)\n",
            "          11 points by luu 3 hours ago  | hide | discuss        \n",
            "              \n",
            "      \n",
            "                \n",
            "      24.      The Quest to Recreate a Lost and &#x27;Terrifying&#x27; Medieval Mead (atlasobscura.com)\n",
            "          67 points by rwmj 11 hours ago  | hide | 25&nbsp;comments        \n",
            "              \n",
            "      \n",
            "                \n",
            "      25.      Making GRID&#x27;s spreadsheet engine 10% faster (alexharri.com)\n",
            "          49 points by alexharri 11 hours ago  | hide | 3&nbsp;comments        \n",
            "              \n",
            "      \n",
            "                \n",
            "      26.      Overlooked reasons to still buy physical media (brainbaking.com)\n",
            "          35 points by surprisetalk 5 hours ago  | hide | 26&nbsp;comments        \n",
            "              \n",
            "      \n",
            "                \n",
            "      27.      Histotripsy – a technique that harnesses soundwaves to attack cancer (umich.edu)\n",
            "          132 points by rmason 11 hours ago  | hide | 27&nbsp;comments        \n",
            "              \n",
            "      \n",
            "                \n",
            "      28.      Jesus nut (wikipedia.org)\n",
            "          180 points by Boogie_Man 14 hours ago  | hide | 90&nbsp;comments        \n",
            "              \n",
            "      \n",
            "                \n",
            "      29.      Intel Launches Arc A580: A $179 Graphics Card for 1080p Gaming (anandtech.com)\n",
            "          107 points by rcarmo 5 hours ago  | hide | 56&nbsp;comments        \n",
            "              \n",
            "      \n",
            "                \n",
            "      30.      Would we still create Nebula today? (defined.net)\n",
            "          105 points by carride 13 hours ago  | hide | 29&nbsp;comments        \n",
            "              \n",
            "      \n",
            "            \n",
            "      More    \n",
            "  \n",
            "\n",
            "\n",
            "Applications are open for YC Winter 2024\n",
            "Guidelines | FAQ | Lists | API | Security | Legal | Apply to YC | Contact\n",
            "Search:       \n",
            "      \n",
            "  \n",
            "\n"
          ]
        }
      ],
      "source": [
        "import re\n",
        "\n",
        "# Remove HTML tags using RegEx\n",
        "pattern = re.compile(r'<.*?>')  # tags look like <...>\n",
        "print(pattern.sub('', r.text))  # replace them with blank"
      ]
    },
    {
      "cell_type": "code",
      "execution_count": 10,
      "metadata": {
        "id": "taniX2HSG59Y",
        "colab": {
          "base_uri": "https://localhost:8080/"
        },
        "outputId": "142da3fc-20ae-4fc2-8d64-d20149106bee"
      },
      "outputs": [
        {
          "output_type": "stream",
          "name": "stdout",
          "text": [
            "\n",
            "        \n",
            "          \n",
            "        Hacker News\n",
            "        \n",
            "                  Hacker News\n",
            "                            new | past | comments | ask | show | jobs | submit            \n",
            "                              login\n",
            "                          \n",
            "              \n",
            "\n",
            "            \n",
            "      1.      How to cook ground meat perfectly without vision (theblindkitchen.com)\n",
            "          191 points by stacktrust 7 hours ago  | hide | 69 comments        \n",
            "              \n",
            "      \n",
            "                \n",
            "      2.      The whole of the Whole Earth Catalog is now online (wired.com)\n",
            "          218 points by privong 11 hours ago  | hide | 42 comments        \n",
            "              \n",
            "      \n",
            "                \n",
            "      3.      Words that deserve wider use (wayne.edu)\n",
            "          25 points by surprisetalk 2 hours ago  | hide | 6 comments        \n",
            "              \n",
            "      \n",
            "                \n",
            "      4.      TimeGPT-1 (arxiv.org)\n",
            "          330 points by PaulHoule 11 hours ago  | hide | 101 comments        \n",
            "              \n",
            "      \n",
            "                \n",
            "      5.      OpenBSD PF-based firewalls suffer differently from denial of service attacks (utoronto.ca)\n",
            "          13 points by mfrw 2 hours ago  | hide | 2 comments        \n",
            "              \n",
            "      \n",
            "                \n",
            "      6.      MathJax: Beautiful and accessible math in all browsers (mathjax.org)\n",
            "          160 points by peter_d_sherman 12 hours ago  | hide | 65 comments        \n",
            "              \n",
            "      \n",
            "                \n",
            "      7.             Meticulous (YC S21) Is Hiring to Build AI for Testing\n",
            "        20 minutes ago | hide      \n",
            "      \n",
            "                \n",
            "      8.      Extinct goat was cold-blooded (2009) (phys.org)\n",
            "          103 points by samaysharma 9 hours ago  | hide | 67 comments        \n",
            "              \n",
            "      \n",
            "                \n",
            "      9.      Underwater Chain Saws (stanleyinfrastructure.com)\n",
            "          86 points by vincent_s 7 hours ago  | hide | 38 comments        \n",
            "              \n",
            "      \n",
            "                \n",
            "      10.      Large Language Models Are Zero-Shot Time Series Forecasters (arxiv.org)\n",
            "          34 points by Anon84 6 hours ago  | hide | 5 comments        \n",
            "              \n",
            "      \n",
            "                \n",
            "      11.      iSponsorBlockTV v2: SponsorBlock for TVs and game consoles (github.com/dmunozv04)\n",
            "          194 points by dmunozv04 13 hours ago  | hide | 69 comments        \n",
            "              \n",
            "      \n",
            "                \n",
            "      12.      In Search of Writers' Haunts (themillions.com)\n",
            "          20 points by wawayanda 4 hours ago  | hide | 3 comments        \n",
            "              \n",
            "      \n",
            "                \n",
            "      13.      Gsplat: CUDA accelerated rasterization of gaussians with Python bindings (gsplat.studio)\n",
            "          5 points by tylerneylon 2 hours ago  | hide | discuss        \n",
            "              \n",
            "      \n",
            "                \n",
            "      14.      Sodium ascorbate treatment for sepsis moves to next phase of human trials (florey.edu.au)\n",
            "          145 points by clouddrover 12 hours ago  | hide | 62 comments        \n",
            "              \n",
            "      \n",
            "                \n",
            "      15.      Kenichi Shinohara's pixel art Ukiyo-e (1987) (gingerbeardman.com)\n",
            "          6 points by msephton 2 hours ago  | hide | 1 comment        \n",
            "              \n",
            "      \n",
            "                \n",
            "      16.      Protocol Analysis and Libusb Linux Driver for the Uni-T UT61B Multimeter (2014) (lukasschwarz.de)\n",
            "          21 points by osivertsson 6 hours ago  | hide | 4 comments        \n",
            "              \n",
            "      \n",
            "                \n",
            "      17.      Playing Pokemon Red with Reinforcement Learning (github.com/pwhiddy)\n",
            "          103 points by GaggiX 9 hours ago  | hide | 49 comments        \n",
            "              \n",
            "      \n",
            "                \n",
            "      18.      Scientists generate first single-cell atlas of the primate brain (phys.org)\n",
            "          50 points by wglb 10 hours ago  | hide | 3 comments        \n",
            "              \n",
            "      \n",
            "                \n",
            "      19.      Write Code Like You Just Learned How to Program (dadgum.com)\n",
            "          18 points by raytopia 5 hours ago  | hide | 10 comments        \n",
            "              \n",
            "      \n",
            "                \n",
            "      20.      Make Your Car Electric for 5K in Less Than a Day (jamesdysonaward.org)\n",
            "          109 points by belter 14 hours ago  | hide | 56 comments        \n",
            "              \n",
            "      \n",
            "                \n",
            "      21.      Text embeddings reveal almost as much as text (arxiv.org)\n",
            "          138 points by alexmolas 14 hours ago  | hide | 38 comments        \n",
            "              \n",
            "      \n",
            "                \n",
            "      22.      First word discovered in unopened Herculaneum scroll by CS student (scrollprize.org)\n",
            "          955 points by razin 1 day ago  | hide | 191 comments        \n",
            "              \n",
            "      \n",
            "                \n",
            "      23.      Questions about synthetic control methods in causal inference (columbia.edu)\n",
            "          11 points by luu 3 hours ago  | hide | discuss        \n",
            "              \n",
            "      \n",
            "                \n",
            "      24.      The Quest to Recreate a Lost and 'Terrifying' Medieval Mead (atlasobscura.com)\n",
            "          67 points by rwmj 11 hours ago  | hide | 25 comments        \n",
            "              \n",
            "      \n",
            "                \n",
            "      25.      Making GRID's spreadsheet engine 10% faster (alexharri.com)\n",
            "          49 points by alexharri 11 hours ago  | hide | 3 comments        \n",
            "              \n",
            "      \n",
            "                \n",
            "      26.      Overlooked reasons to still buy physical media (brainbaking.com)\n",
            "          35 points by surprisetalk 5 hours ago  | hide | 26 comments        \n",
            "              \n",
            "      \n",
            "                \n",
            "      27.      Histotripsy – a technique that harnesses soundwaves to attack cancer (umich.edu)\n",
            "          132 points by rmason 11 hours ago  | hide | 27 comments        \n",
            "              \n",
            "      \n",
            "                \n",
            "      28.      Jesus nut (wikipedia.org)\n",
            "          180 points by Boogie_Man 14 hours ago  | hide | 90 comments        \n",
            "              \n",
            "      \n",
            "                \n",
            "      29.      Intel Launches Arc A580: A $179 Graphics Card for 1080p Gaming (anandtech.com)\n",
            "          107 points by rcarmo 5 hours ago  | hide | 56 comments        \n",
            "              \n",
            "      \n",
            "                \n",
            "      30.      Would we still create Nebula today? (defined.net)\n",
            "          105 points by carride 13 hours ago  | hide | 29 comments        \n",
            "              \n",
            "      \n",
            "            \n",
            "      More    \n",
            "  \n",
            "\n",
            "\n",
            "Applications are open for YC Winter 2024\n",
            "Guidelines | FAQ | Lists | API | Security | Legal | Apply to YC | Contact\n",
            "Search:       \n",
            "      \n",
            "  \n",
            "\n"
          ]
        }
      ],
      "source": [
        "from bs4 import BeautifulSoup\n",
        "\n",
        "# Remove HTML tags using Beautiful Soup library\n",
        "soup = BeautifulSoup(r.text, \"html5lib\")\n",
        "print(soup.get_text())"
      ]
    },
    {
      "cell_type": "code",
      "execution_count": 11,
      "metadata": {
        "scrolled": true,
        "id": "EZy5AFjrG59a",
        "colab": {
          "base_uri": "https://localhost:8080/"
        },
        "outputId": "5dbc8e6c-47c8-4757-9bbc-c0a63401d44f"
      },
      "outputs": [
        {
          "output_type": "execute_result",
          "data": {
            "text/plain": [
              "<tr class=\"athing\" id=\"37876988\">\n",
              "      <td align=\"right\" class=\"title\" valign=\"top\"><span class=\"rank\">1.</span></td>      <td class=\"votelinks\" valign=\"top\"><center><a href=\"vote?id=37876988&amp;how=up&amp;goto=news\" id=\"up_37876988\"><div class=\"votearrow\" title=\"upvote\"></div></a></center></td><td class=\"title\"><span class=\"titleline\"><a href=\"https://theblindkitchen.com/how-to-cook-ground-meat-perfectly-every-time/\" rel=\"noreferrer\">How to cook ground meat perfectly without vision</a><span class=\"sitebit comhead\"> (<a href=\"from?site=theblindkitchen.com\"><span class=\"sitestr\">theblindkitchen.com</span></a>)</span></span></td></tr>"
            ]
          },
          "metadata": {},
          "execution_count": 11
        }
      ],
      "source": [
        "# Find all articles\n",
        "summaries = soup.find_all(\"tr\", class_=\"athing\")\n",
        "summaries[0]"
      ]
    },
    {
      "cell_type": "code",
      "execution_count": null,
      "metadata": {
        "id": "fW4_MdQ0G59c"
      },
      "outputs": [],
      "source": [
        "# Extract title\n",
        "summaries[0].find(\"a\", class_=\"storylink\").get_text().strip()"
      ]
    },
    {
      "cell_type": "code",
      "execution_count": null,
      "metadata": {
        "id": "JfBG9OMLG59d"
      },
      "outputs": [],
      "source": [
        "# Find all articles, extract titles\n",
        "articles = []\n",
        "summaries = soup.find_all(\"tr\", class_=\"athing\")\n",
        "for summary in summaries:\n",
        "    title = summary.find(\"a\", class_=\"storylink\").get_text().strip()\n",
        "    articles.append((title))\n",
        "\n",
        "print(len(articles), \"Article summaries found. Sample:\")\n",
        "print(articles[0])"
      ]
    },
    {
      "cell_type": "markdown",
      "metadata": {
        "collapsed": true,
        "id": "zhi2M9J8G59f"
      },
      "source": [
        "## Normalization"
      ]
    },
    {
      "cell_type": "markdown",
      "metadata": {
        "id": "lZUYirLMG59g"
      },
      "source": [
        "### Case Normalization"
      ]
    },
    {
      "cell_type": "code",
      "execution_count": 14,
      "metadata": {
        "id": "H3bcoFMGG59g",
        "colab": {
          "base_uri": "https://localhost:8080/"
        },
        "outputId": "488a4a53-f399-4da8-a3e3-b005105e24c6"
      },
      "outputs": [
        {
          "output_type": "stream",
          "name": "stdout",
          "text": [
            "The first time you see The Second Renaissance it may look boring. Look at it at least twice and definitely watch part 2. It will change your view of the matrix. Are the human people the ones who started the war ? Is AI a bad thing ?\n"
          ]
        }
      ],
      "source": [
        "# Sample text\n",
        "text = \"The first time you see The Second Renaissance it may look boring. Look at it at least twice and definitely watch part 2. It will change your view of the matrix. Are the human people the ones who started the war ? Is AI a bad thing ?\"\n",
        "print(text)"
      ]
    },
    {
      "cell_type": "code",
      "execution_count": 15,
      "metadata": {
        "id": "CXoHq54jG59h",
        "colab": {
          "base_uri": "https://localhost:8080/"
        },
        "outputId": "050374c0-aa35-417a-e590-db7473dda5dd"
      },
      "outputs": [
        {
          "output_type": "stream",
          "name": "stdout",
          "text": [
            "the first time you see the second renaissance it may look boring. look at it at least twice and definitely watch part 2. it will change your view of the matrix. are the human people the ones who started the war ? is ai a bad thing ?\n"
          ]
        }
      ],
      "source": [
        "# Convert to lowercase\n",
        "text = text.lower()\n",
        "print(text)"
      ]
    },
    {
      "cell_type": "markdown",
      "metadata": {
        "id": "FaxxaSVhG59i"
      },
      "source": [
        "### Punctuation Removal"
      ]
    },
    {
      "cell_type": "code",
      "execution_count": 16,
      "metadata": {
        "id": "xEY1a-sDG59j",
        "colab": {
          "base_uri": "https://localhost:8080/"
        },
        "outputId": "808bd339-4aff-4f7f-e00d-873725f9da7e"
      },
      "outputs": [
        {
          "output_type": "stream",
          "name": "stdout",
          "text": [
            "the first time you see the second renaissance it may look boring  look at it at least twice and definitely watch part 2  it will change your view of the matrix  are the human people the ones who started the war   is ai a bad thing  \n"
          ]
        }
      ],
      "source": [
        "import re\n",
        "\n",
        "# Remove punctuation characters\n",
        "text = re.sub(r\"[^a-zA-Z0-9]\", \" \", text)\n",
        "print(text)"
      ]
    },
    {
      "cell_type": "markdown",
      "metadata": {
        "id": "PcTKfuNtG59j"
      },
      "source": [
        "## Tokenization"
      ]
    },
    {
      "cell_type": "code",
      "execution_count": 17,
      "metadata": {
        "id": "lBesyQF6G59k",
        "colab": {
          "base_uri": "https://localhost:8080/"
        },
        "outputId": "018fa41b-2f1e-4731-ec2f-be4e09a540d0"
      },
      "outputs": [
        {
          "output_type": "stream",
          "name": "stdout",
          "text": [
            "['the', 'first', 'time', 'you', 'see', 'the', 'second', 'renaissance', 'it', 'may', 'look', 'boring', 'look', 'at', 'it', 'at', 'least', 'twice', 'and', 'definitely', 'watch', 'part', '2', 'it', 'will', 'change', 'your', 'view', 'of', 'the', 'matrix', 'are', 'the', 'human', 'people', 'the', 'ones', 'who', 'started', 'the', 'war', 'is', 'ai', 'a', 'bad', 'thing']\n"
          ]
        }
      ],
      "source": [
        "# Split text into tokens (words)\n",
        "words = text.split()\n",
        "print(words)"
      ]
    },
    {
      "cell_type": "markdown",
      "metadata": {
        "id": "pKFyHoKZG59l"
      },
      "source": [
        "### NLTK: Natural Language ToolKit"
      ]
    },
    {
      "cell_type": "code",
      "execution_count": 18,
      "metadata": {
        "id": "gcFJR9GcG59l"
      },
      "outputs": [],
      "source": [
        "import os\n",
        "import nltk\n",
        "nltk.data.path.append(os.path.join(os.getcwd(), \"nltk_data\"))"
      ]
    },
    {
      "cell_type": "code",
      "execution_count": 19,
      "metadata": {
        "id": "oHrxoX6DG59m",
        "colab": {
          "base_uri": "https://localhost:8080/"
        },
        "outputId": "5569b897-b827-4b79-82e1-ea662f0d4e28"
      },
      "outputs": [
        {
          "output_type": "stream",
          "name": "stdout",
          "text": [
            "Dr. Smith graduated from the University of Washington. He later started an analytics firm called Lux, which catered to enterprise customers.\n"
          ]
        }
      ],
      "source": [
        "# Another sample text\n",
        "text = \"Dr. Smith graduated from the University of Washington. He later started an analytics firm called Lux, which catered to enterprise customers.\"\n",
        "print(text)"
      ]
    },
    {
      "cell_type": "code",
      "source": [
        "import nltk\n",
        "nltk.download('punkt')\n",
        "nltk.download('stopwords')\n",
        "nltk.download('wordnet')\n"
      ],
      "metadata": {
        "colab": {
          "base_uri": "https://localhost:8080/"
        },
        "id": "K3RcW2FKFhj9",
        "outputId": "d0789793-2902-477c-caa7-db65ec7e0c09"
      },
      "execution_count": 32,
      "outputs": [
        {
          "output_type": "stream",
          "name": "stderr",
          "text": [
            "[nltk_data] Downloading package punkt to /root/nltk_data...\n",
            "[nltk_data]   Package punkt is already up-to-date!\n",
            "[nltk_data] Downloading package stopwords to /root/nltk_data...\n",
            "[nltk_data]   Package stopwords is already up-to-date!\n",
            "[nltk_data] Downloading package wordnet to /root/nltk_data...\n"
          ]
        },
        {
          "output_type": "execute_result",
          "data": {
            "text/plain": [
              "True"
            ]
          },
          "metadata": {},
          "execution_count": 32
        }
      ]
    },
    {
      "cell_type": "code",
      "execution_count": 22,
      "metadata": {
        "id": "chFzSBaIG59m",
        "colab": {
          "base_uri": "https://localhost:8080/"
        },
        "outputId": "a3b7c33c-caf8-412a-d8c0-2d275bb0fc81"
      },
      "outputs": [
        {
          "output_type": "stream",
          "name": "stdout",
          "text": [
            "['Dr.', 'Smith', 'graduated', 'from', 'the', 'University', 'of', 'Washington', '.', 'He', 'later', 'started', 'an', 'analytics', 'firm', 'called', 'Lux', ',', 'which', 'catered', 'to', 'enterprise', 'customers', '.']\n"
          ]
        }
      ],
      "source": [
        "from nltk.tokenize import word_tokenize\n",
        "\n",
        "# Split text into words using NLTK\n",
        "words = word_tokenize(text)\n",
        "print(words)"
      ]
    },
    {
      "cell_type": "code",
      "execution_count": 23,
      "metadata": {
        "id": "qI-Vs7t1G59n",
        "colab": {
          "base_uri": "https://localhost:8080/"
        },
        "outputId": "a92c01f0-f3ef-4862-c11c-360d4c796841"
      },
      "outputs": [
        {
          "output_type": "stream",
          "name": "stdout",
          "text": [
            "['Dr. Smith graduated from the University of Washington.', 'He later started an analytics firm called Lux, which catered to enterprise customers.']\n"
          ]
        }
      ],
      "source": [
        "from nltk.tokenize import sent_tokenize\n",
        "\n",
        "# Split text into sentences\n",
        "sentences = sent_tokenize(text)\n",
        "print(sentences)"
      ]
    },
    {
      "cell_type": "code",
      "execution_count": 26,
      "metadata": {
        "id": "MO9XYFtVG59o",
        "colab": {
          "base_uri": "https://localhost:8080/"
        },
        "outputId": "e2b830c4-400b-4035-9250-9a5313b360e0"
      },
      "outputs": [
        {
          "output_type": "stream",
          "name": "stdout",
          "text": [
            "['i', 'me', 'my', 'myself', 'we', 'our', 'ours', 'ourselves', 'you', \"you're\", \"you've\", \"you'll\", \"you'd\", 'your', 'yours', 'yourself', 'yourselves', 'he', 'him', 'his', 'himself', 'she', \"she's\", 'her', 'hers', 'herself', 'it', \"it's\", 'its', 'itself', 'they', 'them', 'their', 'theirs', 'themselves', 'what', 'which', 'who', 'whom', 'this', 'that', \"that'll\", 'these', 'those', 'am', 'is', 'are', 'was', 'were', 'be', 'been', 'being', 'have', 'has', 'had', 'having', 'do', 'does', 'did', 'doing', 'a', 'an', 'the', 'and', 'but', 'if', 'or', 'because', 'as', 'until', 'while', 'of', 'at', 'by', 'for', 'with', 'about', 'against', 'between', 'into', 'through', 'during', 'before', 'after', 'above', 'below', 'to', 'from', 'up', 'down', 'in', 'out', 'on', 'off', 'over', 'under', 'again', 'further', 'then', 'once', 'here', 'there', 'when', 'where', 'why', 'how', 'all', 'any', 'both', 'each', 'few', 'more', 'most', 'other', 'some', 'such', 'no', 'nor', 'not', 'only', 'own', 'same', 'so', 'than', 'too', 'very', 's', 't', 'can', 'will', 'just', 'don', \"don't\", 'should', \"should've\", 'now', 'd', 'll', 'm', 'o', 're', 've', 'y', 'ain', 'aren', \"aren't\", 'couldn', \"couldn't\", 'didn', \"didn't\", 'doesn', \"doesn't\", 'hadn', \"hadn't\", 'hasn', \"hasn't\", 'haven', \"haven't\", 'isn', \"isn't\", 'ma', 'mightn', \"mightn't\", 'mustn', \"mustn't\", 'needn', \"needn't\", 'shan', \"shan't\", 'shouldn', \"shouldn't\", 'wasn', \"wasn't\", 'weren', \"weren't\", 'won', \"won't\", 'wouldn', \"wouldn't\"]\n"
          ]
        }
      ],
      "source": [
        "# List stop words\n",
        "from nltk.corpus import stopwords\n",
        "print(stopwords.words(\"english\"))"
      ]
    },
    {
      "cell_type": "code",
      "execution_count": 27,
      "metadata": {
        "id": "IdynKMMTG59p",
        "colab": {
          "base_uri": "https://localhost:8080/"
        },
        "outputId": "07d0e242-4c6f-4d99-eb06-e320a5e7d65d"
      },
      "outputs": [
        {
          "output_type": "stream",
          "name": "stdout",
          "text": [
            "['the', 'first', 'time', 'you', 'see', 'the', 'second', 'renaissance', 'it', 'may', 'look', 'boring', 'look', 'at', 'it', 'at', 'least', 'twice', 'and', 'definitely', 'watch', 'part', '2', 'it', 'will', 'change', 'your', 'view', 'of', 'the', 'matrix', 'are', 'the', 'human', 'people', 'the', 'ones', 'who', 'started', 'the', 'war', 'is', 'ai', 'a', 'bad', 'thing']\n"
          ]
        }
      ],
      "source": [
        "# Reset text\n",
        "text = \"The first time you see The Second Renaissance it may look boring. Look at it at least twice and definitely watch part 2. It will change your view of the matrix. Are the human people the ones who started the war ? Is AI a bad thing ?\"\n",
        "\n",
        "# Normalize it\n",
        "text = re.sub(r\"[^a-zA-Z0-9]\", \" \", text.lower())\n",
        "\n",
        "# Tokenize it\n",
        "words = text.split()\n",
        "print(words)"
      ]
    },
    {
      "cell_type": "code",
      "execution_count": 28,
      "metadata": {
        "id": "kGI6p4o-G59p",
        "colab": {
          "base_uri": "https://localhost:8080/"
        },
        "outputId": "00d579eb-d82a-48d2-dfb5-8adf11a132a9"
      },
      "outputs": [
        {
          "output_type": "stream",
          "name": "stdout",
          "text": [
            "['first', 'time', 'see', 'second', 'renaissance', 'may', 'look', 'boring', 'look', 'least', 'twice', 'definitely', 'watch', 'part', '2', 'change', 'view', 'matrix', 'human', 'people', 'ones', 'started', 'war', 'ai', 'bad', 'thing']\n"
          ]
        }
      ],
      "source": [
        "# Remove stop words\n",
        "words = [w for w in words if w not in stopwords.words(\"english\")]\n",
        "print(words)"
      ]
    },
    {
      "cell_type": "markdown",
      "metadata": {
        "id": "eAdBH09jG59q"
      },
      "source": [
        "### Sentence Parsing"
      ]
    },
    {
      "cell_type": "code",
      "execution_count": 29,
      "metadata": {
        "id": "D8mN5Q-KG59q",
        "colab": {
          "base_uri": "https://localhost:8080/"
        },
        "outputId": "f337d3eb-8dfb-4a64-fbf6-44d4b65d9311"
      },
      "outputs": [
        {
          "output_type": "stream",
          "name": "stdout",
          "text": [
            "(S\n",
            "  (NP I)\n",
            "  (VP\n",
            "    (VP (V shot) (NP (Det an) (N elephant)))\n",
            "    (PP (P in) (NP (Det my) (N pajamas)))))\n",
            "(S\n",
            "  (NP I)\n",
            "  (VP\n",
            "    (V shot)\n",
            "    (NP (Det an) (N elephant) (PP (P in) (NP (Det my) (N pajamas))))))\n"
          ]
        }
      ],
      "source": [
        "import nltk\n",
        "\n",
        "# Define a custom grammar\n",
        "my_grammar = nltk.CFG.fromstring(\"\"\"\n",
        "S -> NP VP\n",
        "PP -> P NP\n",
        "NP -> Det N | Det N PP | 'I'\n",
        "VP -> V NP | VP PP\n",
        "Det -> 'an' | 'my'\n",
        "N -> 'elephant' | 'pajamas'\n",
        "V -> 'shot'\n",
        "P -> 'in'\n",
        "\"\"\")\n",
        "parser = nltk.ChartParser(my_grammar)\n",
        "\n",
        "# Parse a sentence\n",
        "sentence = word_tokenize(\"I shot an elephant in my pajamas\")\n",
        "for tree in parser.parse(sentence):\n",
        "    print(tree)"
      ]
    },
    {
      "cell_type": "markdown",
      "metadata": {
        "id": "mP6BE3ViG59r"
      },
      "source": [
        "## Stemming & Lemmatization\n",
        "\n",
        "### Stemming"
      ]
    },
    {
      "cell_type": "code",
      "execution_count": 30,
      "metadata": {
        "id": "guV3wpPWG59s",
        "colab": {
          "base_uri": "https://localhost:8080/"
        },
        "outputId": "9102595a-6812-40df-d3a9-dab0996fe12e"
      },
      "outputs": [
        {
          "output_type": "stream",
          "name": "stdout",
          "text": [
            "['first', 'time', 'see', 'second', 'renaiss', 'may', 'look', 'bore', 'look', 'least', 'twice', 'definit', 'watch', 'part', '2', 'chang', 'view', 'matrix', 'human', 'peopl', 'one', 'start', 'war', 'ai', 'bad', 'thing']\n"
          ]
        }
      ],
      "source": [
        "from nltk.stem.porter import PorterStemmer\n",
        "\n",
        "# Reduce words to their stems\n",
        "stemmed = [PorterStemmer().stem(w) for w in words]\n",
        "print(stemmed)"
      ]
    },
    {
      "cell_type": "markdown",
      "metadata": {
        "id": "L0KB_1sqG59t"
      },
      "source": [
        "### Lemmatization"
      ]
    },
    {
      "cell_type": "code",
      "execution_count": 33,
      "metadata": {
        "id": "6nfVzMV2G59t",
        "colab": {
          "base_uri": "https://localhost:8080/"
        },
        "outputId": "320b2693-b796-410c-c28d-a1fa5671e3f7"
      },
      "outputs": [
        {
          "output_type": "stream",
          "name": "stdout",
          "text": [
            "['first', 'time', 'see', 'second', 'renaissance', 'may', 'look', 'boring', 'look', 'least', 'twice', 'definitely', 'watch', 'part', '2', 'change', 'view', 'matrix', 'human', 'people', 'one', 'started', 'war', 'ai', 'bad', 'thing']\n"
          ]
        }
      ],
      "source": [
        "from nltk.stem.wordnet import WordNetLemmatizer\n",
        "\n",
        "# Reduce words to their root form\n",
        "lemmed = [WordNetLemmatizer().lemmatize(w) for w in words]\n",
        "print(lemmed)"
      ]
    },
    {
      "cell_type": "code",
      "execution_count": 34,
      "metadata": {
        "id": "Ls4LCWrsG59u",
        "colab": {
          "base_uri": "https://localhost:8080/"
        },
        "outputId": "03238af4-c4ba-4f03-b54f-28c1c328ca77"
      },
      "outputs": [
        {
          "output_type": "stream",
          "name": "stdout",
          "text": [
            "['first', 'time', 'see', 'second', 'renaissance', 'may', 'look', 'bore', 'look', 'least', 'twice', 'definitely', 'watch', 'part', '2', 'change', 'view', 'matrix', 'human', 'people', 'one', 'start', 'war', 'ai', 'bad', 'thing']\n"
          ]
        }
      ],
      "source": [
        "# Lemmatize verbs by specifying pos\n",
        "lemmed = [WordNetLemmatizer().lemmatize(w, pos='v') for w in lemmed]\n",
        "print(lemmed)"
      ]
    }
  ],
  "metadata": {
    "kernelspec": {
      "display_name": "Python [conda env:nlpnd]",
      "language": "python",
      "name": "conda-env-nlpnd-py"
    },
    "language_info": {
      "codemirror_mode": {
        "name": "ipython",
        "version": 3
      },
      "file_extension": ".py",
      "mimetype": "text/x-python",
      "name": "python",
      "nbconvert_exporter": "python",
      "pygments_lexer": "ipython3",
      "version": "3.5.4"
    },
    "colab": {
      "provenance": []
    }
  },
  "nbformat": 4,
  "nbformat_minor": 0
}