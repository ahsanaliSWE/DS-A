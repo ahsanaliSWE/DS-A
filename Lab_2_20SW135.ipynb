{
  "nbformat": 4,
  "nbformat_minor": 0,
  "metadata": {
    "colab": {
      "provenance": []
    },
    "kernelspec": {
      "name": "python3",
      "display_name": "Python 3"
    },
    "language_info": {
      "name": "python"
    }
  },
  "cells": [
    {
      "cell_type": "markdown",
      "source": [
        "##Task 1\n"
      ],
      "metadata": {
        "id": "RwkVKU_0qb3L"
      }
    },
    {
      "cell_type": "code",
      "execution_count": null,
      "metadata": {
        "colab": {
          "base_uri": "https://localhost:8080/"
        },
        "id": "5mcWG4xJwRER",
        "outputId": "b62fb453-9a5a-4adb-96b8-63cc1464576e"
      },
      "outputs": [
        {
          "output_type": "stream",
          "name": "stdout",
          "text": [
            "Congratulations! You won a wafer-thin mint!\n"
          ]
        }
      ],
      "source": [
        "# Task 1\n",
        "points = 174\n",
        "\n",
        "if points <= 50:\n",
        "    result = \"Congratulations! You won a wooden rabbit!\"\n",
        "elif points <= 150:\n",
        "    result = \"Oh dear, no prize this time.\"\n",
        "elif points <= 180:\n",
        "    result = \"Congratulations! You won a wafer-thin mint!\"\n",
        "else:\n",
        "    result = \"Congratulations! You won a penguin!\"\n",
        "\n",
        "print(result)"
      ]
    },
    {
      "cell_type": "markdown",
      "source": [
        "##Task 2\n",
        "##Guess My Number\n",
        "###You decide you want to play a game where you are hiding a number from someone.Store this number in a variable called 'answer'. Another user provides a number called 'guess'. By comparing guess to answer, you inform the user if their guess is too high or too low. Fill in the conditionals below to inform the user about how their guess compares to the answer."
      ],
      "metadata": {
        "id": "i6-RMqCnqm5M"
      }
    },
    {
      "cell_type": "code",
      "source": [
        "# Task 2 Guess My Number\n",
        "answer = 3\n",
        "guess = 3\n",
        "\n",
        "if guess < answer:\n",
        "    result = \"Oops!  Your guess was too low.\"\n",
        "elif guess > answer:\n",
        "    result = \"Oops!  Your guess was too high.\"\n",
        "elif guess == answer:\n",
        "    result = \"Nice!  Your guess matched the answer!\"\n",
        "\n",
        "print(result)"
      ],
      "metadata": {
        "colab": {
          "base_uri": "https://localhost:8080/"
        },
        "id": "OXk1L5hLx9NY",
        "outputId": "9a89d6b7-6b32-4128-996a-db521913d0ef"
      },
      "execution_count": null,
      "outputs": [
        {
          "output_type": "stream",
          "name": "stdout",
          "text": [
            "Nice!  Your guess matched the answer!\n"
          ]
        }
      ]
    },
    {
      "cell_type": "markdown",
      "source": [
        "##Task 3\n",
        "##Tax Purchase\n",
        "###Depending on where an individual is from we need to tax them appropriately. The states of CA, MN, and NY have taxes of 7.5%, 9.5%, and 8.9% respectively. Use this information to take the amount of a purchase and the corresponding state to assure that they are taxed by the right amount"
      ],
      "metadata": {
        "id": "NS3g9qV1q47f"
      }
    },
    {
      "cell_type": "code",
      "source": [
        "# Task 3\n",
        "\n",
        "state = 'CA'\n",
        "purchase_amount = 100\n",
        "\n",
        "if state == 'CA':\n",
        "    tax_amount = .075\n",
        "    total_cost = purchase_amount + (purchase_amount * tax_amount)\n",
        "    result = \"Since you're from {}, your total cost is {}.\".format(state, total_cost)\n",
        "\n",
        "elif state == 'MN':\n",
        "    tax_amount = .095\n",
        "    total_cost = purchase_amount*(1+tax_amount)\n",
        "    result = \"Since you're from {}, your total cost is {}.\".format(state, total_cost)\n",
        "\n",
        "elif state == 'NY':\n",
        "    tax_amount = .089\n",
        "    total_cost = purchase_amount*(1+tax_amount)\n",
        "    result = \"Since you're from {}, your total cost is {}.\".format(state, total_cost)\n",
        "\n",
        "print(result)"
      ],
      "metadata": {
        "colab": {
          "base_uri": "https://localhost:8080/"
        },
        "id": "gOU_RgAeyqej",
        "outputId": "6b5e4984-12e3-4560-c674-e5c179201d10"
      },
      "execution_count": null,
      "outputs": [
        {
          "output_type": "stream",
          "name": "stdout",
          "text": [
            "Since you're from CA, your total cost is 107.5.\n"
          ]
        }
      ]
    },
    {
      "cell_type": "markdown",
      "source": [
        "##Task 4\n",
        "###Use a for loop to take a list and print each element of the list in its own line.\n",
        "###Example:\n",
        "###sentence = [\"the\", \"quick\", \"brown\", \"fox\", \"jumped\", \"over\", \"the\", \"lazy\", \"dog\""
      ],
      "metadata": {
        "id": "08w0n2APrF6Q"
      }
    },
    {
      "cell_type": "code",
      "source": [
        "# Task 4\n",
        "sentence = [\"the\", \"quick\", \"brown\", \"fox\", \"jumped\", \"over\", \"the\", \"lazy\", \"dog\"]\n",
        "\n",
        "# for loop to print out each word in the sentence list, one word per line\n",
        "\n",
        "for word in sentence:\n",
        "    print(word)"
      ],
      "metadata": {
        "colab": {
          "base_uri": "https://localhost:8080/"
        },
        "id": "z9K4WpaXzHEI",
        "outputId": "57c7a822-b6f4-4a3c-991c-ec0c5fbb1c55"
      },
      "execution_count": null,
      "outputs": [
        {
          "output_type": "stream",
          "name": "stdout",
          "text": [
            "the\n",
            "quick\n",
            "brown\n",
            "fox\n",
            "jumped\n",
            "over\n",
            "the\n",
            "lazy\n",
            "dog\n"
          ]
        }
      ]
    },
    {
      "cell_type": "markdown",
      "source": [
        "##Task 5\n",
        "##Multiples of 5\n",
        "###Write a for loop below that will print out every whole number that is a multiple of 5 and less than or equal to 30."
      ],
      "metadata": {
        "id": "cIp1JWmYrVEz"
      }
    },
    {
      "cell_type": "code",
      "source": [
        "# Task 5\n",
        "l = [i for i in range(1,31,1) if i%5 == 0]\n",
        "print(l)"
      ],
      "metadata": {
        "colab": {
          "base_uri": "https://localhost:8080/"
        },
        "id": "oDON6xZPzXWN",
        "outputId": "0f183e22-1f23-4a56-a692-7e942004d43c"
      },
      "execution_count": null,
      "outputs": [
        {
          "output_type": "stream",
          "name": "stdout",
          "text": [
            "[5, 10, 15, 20, 25, 30]\n"
          ]
        }
      ]
    },
    {
      "cell_type": "markdown",
      "source": [
        "##Task 6\n",
        "##Extract First Names\n",
        "###Use a list comprehension to create a new list first_names containing just the first names in names in lowercase."
      ],
      "metadata": {
        "id": "9XeRsed3reGi"
      }
    },
    {
      "cell_type": "code",
      "source": [
        "# Task 6 Extract First Names\n",
        "names = [\"Rick Sanchez\", \"Morty Smith\", \"Summer Smith\", \"Jerry Smith\", \"Beth Smith\"]\n",
        "\n",
        "first_names = [name.lower().split()[0] for name in names]\n",
        "\n",
        "print(first_names)"
      ],
      "metadata": {
        "colab": {
          "base_uri": "https://localhost:8080/"
        },
        "id": "tjIRyTL70iCd",
        "outputId": "c936e16b-0262-40eb-f23a-99d3917a3bfa"
      },
      "execution_count": null,
      "outputs": [
        {
          "output_type": "stream",
          "name": "stdout",
          "text": [
            "['rick', 'morty', 'summer', 'jerry', 'beth']\n"
          ]
        }
      ]
    },
    {
      "cell_type": "markdown",
      "source": [
        "##Task 7\n",
        "##Multiples of Three\n",
        "###Use a list comprehension to create a list multiples_3 containing the first 20 multiples of 3."
      ],
      "metadata": {
        "id": "p_v_owiNrntC"
      }
    },
    {
      "cell_type": "code",
      "source": [
        "# Task 7 Multiples of Three\n",
        "multiples_3 = [x * 3 for x in range(1, 21)]\n",
        "print(multiples_3)"
      ],
      "metadata": {
        "colab": {
          "base_uri": "https://localhost:8080/"
        },
        "id": "-nYUjEPK1AeT",
        "outputId": "d65ad117-96b1-4ef5-f325-35cc515ee730"
      },
      "execution_count": null,
      "outputs": [
        {
          "output_type": "stream",
          "name": "stdout",
          "text": [
            "[3, 6, 9, 12, 15, 18, 21, 24, 27, 30, 33, 36, 39, 42, 45, 48, 51, 54, 57, 60]\n"
          ]
        }
      ]
    },
    {
      "cell_type": "markdown",
      "source": [
        "##Task 8\n",
        "##Filter Names by Scores\n",
        "###Use a list comprehension to create a list of names passed that only include those that scored at least 65."
      ],
      "metadata": {
        "id": "RbJuwND8rwWT"
      }
    },
    {
      "cell_type": "code",
      "source": [
        "# Task 8 Filter Names by Scores\n",
        "scores = {\n",
        "             \"Rick Sanchez\": 70,\n",
        "             \"Morty Smith\": 35,\n",
        "             \"Summer Smith\": 82,\n",
        "             \"Jerry Smith\": 23,\n",
        "             \"Beth Smith\": 98\n",
        "          }\n",
        "\n",
        "\n",
        "passed = [name for name, value in scores.items() if value >= 65]\n",
        "print(passed)\n",
        "\n"
      ],
      "metadata": {
        "colab": {
          "base_uri": "https://localhost:8080/"
        },
        "id": "ahgtWe8h1NCq",
        "outputId": "91c23293-9336-4a04-94d8-e92ddb36c66a"
      },
      "execution_count": null,
      "outputs": [
        {
          "output_type": "stream",
          "name": "stdout",
          "text": [
            "['Rick Sanchez', 'Summer Smith', 'Beth Smith']\n"
          ]
        }
      ]
    },
    {
      "cell_type": "markdown",
      "source": [
        "##Task 9\n",
        "##Zip Lists to a Dictionary\n",
        "###Use zip to create a dictionary cast that uses names as keys and heights as values."
      ],
      "metadata": {
        "id": "sPf92lnwr7Gw"
      }
    },
    {
      "cell_type": "code",
      "source": [
        "# Task 9 Zip Lists to a Dictionary\n",
        "cast_names = [\"Barney\", \"Robin\", \"Ted\", \"Lily\", \"Marshall\"]\n",
        "cast_heights = [72, 68, 72, 66, 76]\n",
        "\n",
        "cast = dict(zip(cast_names, cast_heights))\n",
        "\n",
        "print(cast)"
      ],
      "metadata": {
        "colab": {
          "base_uri": "https://localhost:8080/"
        },
        "id": "fnDBTovV19_f",
        "outputId": "c99fbdd3-50f7-4dc6-8501-de2bf64549fd"
      },
      "execution_count": null,
      "outputs": [
        {
          "output_type": "stream",
          "name": "stdout",
          "text": [
            "{'Barney': 72, 'Robin': 68, 'Ted': 72, 'Lily': 66, 'Marshall': 76}\n"
          ]
        }
      ]
    },
    {
      "cell_type": "markdown",
      "source": [
        "##Task 10\n",
        "###Use enumerate to modify the cast list so that each element contains the name followed by the character's corresponding height. For example, the first element of cast should change from \"Barney Stinson\" to \"Barney Stinson 72\" ."
      ],
      "metadata": {
        "id": "epT99oFYsZBA"
      }
    },
    {
      "cell_type": "code",
      "source": [
        "# Task 10   Use enumerate to modify the cast list so that each element contains the name\n",
        "cast = [\"Barney Stinson\", \"Robin Scherbatsky\", \"Ted Mosby\", \"Lily Aldrin\", \"Marshall Eriksen\"]\n",
        "heights = [72, 68, 72, 66, 76]\n",
        "\n",
        "for index, height in enumerate(heights):\n",
        "    s = \"{} {}\".format(cast[index], height)\n",
        "    cast[index] = s\n",
        "\n",
        "print(cast)"
      ],
      "metadata": {
        "colab": {
          "base_uri": "https://localhost:8080/"
        },
        "id": "JOI-hgLK2nFN",
        "outputId": "6bec2a3a-b36c-4cd3-972f-494f7d5493f3"
      },
      "execution_count": null,
      "outputs": [
        {
          "output_type": "stream",
          "name": "stdout",
          "text": [
            "['Barney Stinson 72', 'Robin Scherbatsky 68', 'Ted Mosby 72', 'Lily Aldrin 66', 'Marshall Eriksen 76']\n"
          ]
        }
      ]
    }
  ]
}