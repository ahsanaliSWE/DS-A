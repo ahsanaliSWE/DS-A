{
  "nbformat": 4,
  "nbformat_minor": 0,
  "metadata": {
    "colab": {
      "provenance": []
    },
    "kernelspec": {
      "name": "python3",
      "display_name": "Python 3"
    },
    "language_info": {
      "name": "python"
    }
  },
  "cells": [
    {
      "cell_type": "markdown",
      "source": [
        "##***Task 01***\n",
        "import pandas as pd\n",
        "\n",
        "**Create a Pandas Series that contains the distance of some planets from the Sun.\n",
        "Use the name of the planets as the index to your Pandas Series, and the distance\n",
        "from the Sun as your data. The distance from the Sun is in units of 10^6 km**\n",
        "\n",
        "distance_from_sun = [149.6, 1433.5, 227.9, 108.2, 778.6]\n",
        "\n",
        "planets = ['Earth','Saturn', 'Mars','Venus', 'Jupiter']\n",
        "\n",
        "**Create a Pandas Series using the above data, with the name of the planets as\n",
        "the index and the distance from the Sun as your data.**\n",
        "\n",
        "dist_planets =\n",
        "\n"
      ],
      "metadata": {
        "id": "oQVaoOSf6uGu"
      }
    },
    {
      "cell_type": "code",
      "execution_count": 13,
      "metadata": {
        "colab": {
          "base_uri": "https://localhost:8080/"
        },
        "id": "CsN9TNQ16mIP",
        "outputId": "2ba9b6f2-974b-4aa5-e7f1-0be1230e5bdb"
      },
      "outputs": [
        {
          "output_type": "stream",
          "name": "stdout",
          "text": [
            "Earth       149.6\n",
            "Saturn     1433.5\n",
            "Mars        227.9\n",
            "Venus       108.2\n",
            "Jupiter     778.6\n",
            "dtype: float64\n"
          ]
        }
      ],
      "source": [
        "import pandas as pd\n",
        "\n",
        "distance_from_sun = [149.6, 1433.5, 227.9, 108.2, 778.6]\n",
        "\n",
        "planets = ['Earth','Saturn', 'Mars','Venus', 'Jupiter']\n",
        "\n",
        "dist_planets = pd.Series([149.6, 1433.5, 227.9, 108.2, 778.6], ['Earth', 'Saturn', 'Mars', 'Venus', 'Jupiter'])\n",
        "\n",
        "print(dist_planets)\n"
      ]
    },
    {
      "cell_type": "markdown",
      "source": [
        "#***Task 02***\n",
        "import pandas as pd\n",
        "\n",
        "import numpy as np\n",
        "\n",
        "**Since we will be working with ratings, we will set the precision of our dataframes to one decimal place.**\n",
        "\n",
        "pd.set_option('precision', 1)\n",
        "\n",
        " **Create a Pandas DataFrame that contains the ratings some users have given to a series of books. The ratings given are in the range from 1 to 5, with 5 being\n",
        " the best score. The names of the books, the authors, and the ratings of each user are given below:**\n",
        "\n",
        "books = pd.Series(data = ['Great Expectations', 'Of Mice and Men', 'Romeo and Juliet', 'The Time Machine', 'Alice in Wonderland' ])\n",
        "\n",
        "authors = pd.Series(data = ['Charles Dickens', 'John Steinbeck', 'William Shakespeare', ' H. G. Wells', 'Lewis Carroll' ])\n",
        "\n",
        "user_1 = pd.Series(data = [3.2, np.nan ,2.5])\n",
        "\n",
        "user_2 = pd.Series(data = [5., 1.3, 4.0, 3.8])\n",
        "\n",
        "user_3 = pd.Series(data = [2.0, 2.3, np.nan, 4])\n",
        "\n",
        "user_4 = pd.Series(data = [4, 3.5, 4, 5, 4.2])\n",
        "\n",
        " **Users that have np.nan values means that the user has not yet rated that book.**\n",
        " **Use the data above to create a Pandas DataFrame that has the following column**\n",
        " **labels: 'Author', 'Book Title', 'User 1', 'User 2', 'User 3', 'User 4'. Let Pandas automatically assign numerical row indices to the DataFrame.**\n",
        "\n",
        "**Create a dictionary with the data given above**\n",
        "\n",
        "dat =\n",
        "\n",
        "**Use the dictionary to create a Pandas DataFrame**\n",
        "\n",
        "book_ratings =\n",
        "\n",
        "**If you created the dictionary correctly you should have a Pandas DataFrame**\n",
        "**that has column labels: 'Author', 'Book Title', 'User 1', 'User 2', 'User 3', 'User 4' and row indices 0 through 4.**\n",
        "\n",
        "**Now replace all the NaN values in your DataFrame with the average rating in**\n",
        "**each column. Replace the NaN values in place. HINT: you can use the fillna()**\n",
        "**function with the keyword inplace = True, to do this. Write your code below:**\n",
        "\n",
        "**INSTRUCTOR NOTE:**\n",
        "From the DataFrame above you can now pick all the books that had a rating of 5. You can do this in just one line of code. Try to do it yourself first, you'll find the answer below:\n",
        "\n",
        "best_rated = book_ratings[(book_ratings == 5).any(axis = 1)]['Book Title'].values\n",
        "\n",
        "The code above returns a NumPy ndarray that only contains the names of the books that had a rating of 5.\n"
      ],
      "metadata": {
        "id": "5_kN_8Ie6slu"
      }
    },
    {
      "cell_type": "code",
      "source": [
        "import pandas as pd\n",
        "import numpy as np\n",
        "\n",
        "# Since we will be working with ratings, we will set the precision of our\n",
        "# dataframes to one decimal place.\n",
        "pd.set_option('display.precision', 1)\n",
        "\n",
        "# Create a Pandas DataFrame that contains the ratings some users have given to a\n",
        "# series of books. The ratings given are in the range from 1 to 5, with 5 being\n",
        "# the best score. The names of the books, the authors, and the ratings of each user\n",
        "# are given below:\n",
        "\n",
        "books = pd.Series(data = ['Great Expectations', 'Of Mice and Men', 'Romeo and Juliet', 'The Time Machine', 'Alice in Wonderland' ])\n",
        "authors = pd.Series(data = ['Charles Dickens', 'John Steinbeck', 'William Shakespeare', ' H. G. Wells', 'Lewis Carroll' ])\n",
        "\n",
        "user_1 = pd.Series(data = [3.2, np.nan ,2.5])\n",
        "user_2 = pd.Series(data = [5., 1.3, 4.0, 3.8])\n",
        "user_3 = pd.Series(data = [2.0, 2.3, np.nan, 4])\n",
        "user_4 = pd.Series(data = [4, 3.5, 4, 5, 4.2])\n",
        "\n",
        "# Users that have np.nan values means that the user has not yet rated that book.\n",
        "# Use the data above to create a Pandas DataFrame that has the following column\n",
        "# labels: 'Author', 'Book Title', 'User 1', 'User 2', 'User 3', 'User 4'. Let Pandas\n",
        "# automatically assign numerical row indices to the DataFrame.\n",
        "\n",
        "# Create a dictionary with the data given above\n",
        "dat = {'Book Title' : books,\n",
        "       'Author' : authors,\n",
        "       'User 1' : user_1,\n",
        "       'User 2' : user_2,\n",
        "       'User 3' : user_3,\n",
        "       'User 4' : user_4}\n",
        "\n",
        "# Use the dictionary to create a Pandas DataFrame\n",
        "book_ratings = pd.DataFrame(dat)\n",
        "\n",
        "# If you created the dictionary correctly you should have a Pandas DataFrame\n",
        "# that has column labels: 'Author', 'Book Title', 'User 1', 'User 2', 'User 3',\n",
        "# 'User 4' and row indices 0 through 4.\n",
        "\n",
        "print(book_ratings)\n",
        "print()\n",
        "\n",
        "# Now replace all the NaN values in your DataFrame with the average rating in\n",
        "# each column. Replace the NaN values in place. HINT: you can use the fillna()\n",
        "# function with the keyword inplace = True, to do this. Write your code below:\n",
        "\n",
        "book_ratings.fillna(book_ratings.mean(numeric_only=True), inplace = True)\n",
        "print(book_ratings)\n",
        "print()\n",
        "\n",
        "# From the DataFrame above you can now pick all the books that had a rating of 5.\n",
        "# You can do this in just one line of code. Try to do it yourself first, you'll\n",
        "# find the answer below:\n",
        "\n",
        "best_rated = book_ratings[(book_ratings == 5).any(axis = 1)]['Book Title'].values\n",
        "\n",
        "# The code above returns a NumPy ndarray that only contains the names of the books\n",
        "# that had a rating of 5.\n",
        "\n",
        "print(best_rated)"
      ],
      "metadata": {
        "colab": {
          "base_uri": "https://localhost:8080/"
        },
        "id": "Nx_Wah-4Wyl7",
        "outputId": "0a3291f5-db9e-48f9-892b-4de51f034f8f"
      },
      "execution_count": 18,
      "outputs": [
        {
          "output_type": "stream",
          "name": "stdout",
          "text": [
            "            Book Title               Author  User 1  User 2  User 3  User 4\n",
            "0   Great Expectations      Charles Dickens     3.2     5.0     2.0     4.0\n",
            "1      Of Mice and Men       John Steinbeck     NaN     1.3     2.3     3.5\n",
            "2     Romeo and Juliet  William Shakespeare     2.5     4.0     NaN     4.0\n",
            "3     The Time Machine          H. G. Wells     NaN     3.8     4.0     5.0\n",
            "4  Alice in Wonderland        Lewis Carroll     NaN     NaN     NaN     4.2\n",
            "\n",
            "            Book Title               Author  User 1  User 2  User 3  User 4\n",
            "0   Great Expectations      Charles Dickens     3.2     5.0     2.0     4.0\n",
            "1      Of Mice and Men       John Steinbeck     2.9     1.3     2.3     3.5\n",
            "2     Romeo and Juliet  William Shakespeare     2.5     4.0     2.8     4.0\n",
            "3     The Time Machine          H. G. Wells     2.9     3.8     4.0     5.0\n",
            "4  Alice in Wonderland        Lewis Carroll     2.9     3.5     2.8     4.2\n",
            "\n",
            "['Great Expectations' 'The Time Machine']\n"
          ]
        }
      ]
    }
  ]
}