{
  "nbformat": 4,
  "nbformat_minor": 0,
  "metadata": {
    "colab": {
      "provenance": []
    },
    "kernelspec": {
      "name": "python3",
      "display_name": "Python 3"
    },
    "language_info": {
      "name": "python"
    }
  },
  "cells": [
    {
      "cell_type": "markdown",
      "source": [
        "###Task 1\n",
        "####import numpy as np\n",
        "####Using the Built-in functions you learned about in the\n",
        "#### previous lesson, create a 4 x 4 ndarray that only\n",
        "#### contains consecutive even numbers from 2 to 32 (inclusive)\n",
        "####X =\n"
      ],
      "metadata": {
        "id": "9m64xZt1JCtE"
      }
    },
    {
      "cell_type": "code",
      "execution_count": 11,
      "metadata": {
        "colab": {
          "base_uri": "https://localhost:8080/"
        },
        "id": "tKisLmQOHnMe",
        "outputId": "973406d5-5ca0-48f3-e195-56a3fa832b88"
      },
      "outputs": [
        {
          "output_type": "stream",
          "name": "stdout",
          "text": [
            "[[ 2  4  6  8]\n",
            " [10 12 14 16]\n",
            " [18 20 22 24]\n",
            " [26 28 30 32]]\n"
          ]
        }
      ],
      "source": [
        "import numpy as np\n",
        "x = np.arange(2,34,2).reshape(4,4)\n",
        "print(x)"
      ]
    },
    {
      "cell_type": "markdown",
      "source": [
        "####Task 2\n",
        "\n",
        "####import numpy as np\n",
        "\n",
        "#### Create a 5 x 5 ndarray with consecutive integers from 1 to 25 (inclusive).\n",
        "#### Afterwards use Boolean indexing to pick out only the odd numbers in the array\n",
        "\n",
        "#### Create a 5 x 5 ndarray with consecutive integers from 1 to 25 (inclusive).\n",
        "X =\n",
        "\n",
        "#### Use Boolean indexing to pick out only the odd numbers in the array\n",
        "Y =\n"
      ],
      "metadata": {
        "id": "qqdAAZDGPqKw"
      }
    },
    {
      "cell_type": "code",
      "source": [
        "X = np.arange(1,26).reshape(5,5)\n",
        "\n",
        "Y = X[X % 2 == 1]\n",
        "\n",
        "print(\"X = \\n\",X)\n",
        "print(\"Y = \",Y)"
      ],
      "metadata": {
        "colab": {
          "base_uri": "https://localhost:8080/"
        },
        "id": "GZCtZEHYQA2K",
        "outputId": "4fe3dd33-cbbe-4139-bdb9-f186b6bb9eb6"
      },
      "execution_count": 15,
      "outputs": [
        {
          "output_type": "stream",
          "name": "stdout",
          "text": [
            "X = \n",
            " [[ 1  2  3  4  5]\n",
            " [ 6  7  8  9 10]\n",
            " [11 12 13 14 15]\n",
            " [16 17 18 19 20]\n",
            " [21 22 23 24 25]]\n",
            "Y =  [ 1  3  5  7  9 11 13 15 17 19 21 23 25]\n"
          ]
        }
      ]
    },
    {
      "cell_type": "markdown",
      "source": [
        "####Task 3\n",
        "####import numpy as np\n",
        "#### Use Broadcasting to create a 4 x 4 ndarray that has its first\n",
        "#### column full of 1s, its second column full of 2s, its third\n",
        "#### column full of 3s, etc..\n",
        "####X =\n"
      ],
      "metadata": {
        "id": "16irVY1PQ9QC"
      }
    },
    {
      "cell_type": "code",
      "source": [
        "y = np.arange(4)\n",
        "z = np.ones((3,4))\n",
        "\n",
        "print(\"X = \\n\",y + z)"
      ],
      "metadata": {
        "colab": {
          "base_uri": "https://localhost:8080/"
        },
        "id": "jLlPXI8MXK-1",
        "outputId": "37026d74-3275-4cbb-ff8a-1ba10300ea5d"
      },
      "execution_count": 25,
      "outputs": [
        {
          "output_type": "stream",
          "name": "stdout",
          "text": [
            "X = \n",
            " [[1. 2. 3. 4.]\n",
            " [1. 2. 3. 4.]\n",
            " [1. 2. 3. 4.]]\n"
          ]
        }
      ]
    }
  ]
}